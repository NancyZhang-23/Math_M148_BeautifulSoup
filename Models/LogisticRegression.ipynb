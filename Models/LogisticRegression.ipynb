{
 "cells": [
  {
   "cell_type": "markdown",
   "id": "33444836",
   "metadata": {
    "id": "33444836"
   },
   "source": [
    "## Logistic Regression with Product List\n",
    "\n",
    "> Indented block\n",
    "\n"
   ]
  },
  {
   "cell_type": "markdown",
   "id": "25df21f7",
   "metadata": {
    "id": "25df21f7"
   },
   "source": [
    "### Multinomial Logistic Regression"
   ]
  },
  {
   "cell_type": "code",
   "execution_count": 1,
   "id": "daa67c59",
   "metadata": {
    "id": "daa67c59"
   },
   "outputs": [],
   "source": [
    "# Import libraries\n",
    "import numpy as np\n",
    "import pandas as pd\n",
    "import matplotlib.pyplot as plt\n",
    "import seaborn as sns\n",
    "from sklearn.linear_model import LogisticRegression\n",
    "from sklearn.preprocessing import StandardScaler\n",
    "from sklearn.model_selection import cross_val_score, train_test_split\n",
    "import math"
   ]
  },
  {
   "cell_type": "markdown",
   "id": "5a8b027a",
   "metadata": {
    "id": "5a8b027a"
   },
   "source": [
    "Goal: predict disease class from the data. \\\n",
    "We will be using multinomial logistic regression.\n",
    "Dataset can be found at: https://archive.ics.uci.edu/ml/datasets/dermatology"
   ]
  },
  {
   "cell_type": "code",
   "execution_count": 2,
   "id": "fa3938b8",
   "metadata": {
    "id": "fa3938b8",
    "scrolled": false
   },
   "outputs": [],
   "source": [
    "# Pre-processing\n",
    "# dermatology.csv can be found in the GitHub\n",
    "full_data = pd.read_csv(\"juiced2.csv\", delimiter = ',')\n",
    "full_data.head()\n",
    "full_data.drop(columns = full_data.columns[0], axis = 1, inplace = True)"
   ]
  },
  {
   "cell_type": "code",
   "execution_count": 3,
   "id": "MHs-FL1oT2d6",
   "metadata": {
    "colab": {
     "base_uri": "https://localhost:8080/",
     "height": 300
    },
    "id": "MHs-FL1oT2d6",
    "outputId": "6ed518c7-7c6e-47b4-9bf8-1e762d23da23"
   },
   "outputs": [
    {
     "data": {
      "text/html": [
       "<div>\n",
       "<style scoped>\n",
       "    .dataframe tbody tr th:only-of-type {\n",
       "        vertical-align: middle;\n",
       "    }\n",
       "\n",
       "    .dataframe tbody tr th {\n",
       "        vertical-align: top;\n",
       "    }\n",
       "\n",
       "    .dataframe thead th {\n",
       "        text-align: right;\n",
       "    }\n",
       "</style>\n",
       "<table border=\"1\" class=\"dataframe\">\n",
       "  <thead>\n",
       "    <tr style=\"text-align: right;\">\n",
       "      <th></th>\n",
       "      <th>mean.visitpagenum.</th>\n",
       "      <th>myaccountengagement</th>\n",
       "      <th>used_promo</th>\n",
       "      <th>category</th>\n",
       "      <th>devicetype_Mobile</th>\n",
       "      <th>devicetype_Tablet</th>\n",
       "      <th>devicetype_Unknown</th>\n",
       "      <th>firsthitpagename_checkout</th>\n",
       "      <th>firsthitpagename_index</th>\n",
       "      <th>firsthitpagename_my.account</th>\n",
       "      <th>...</th>\n",
       "      <th>productlist_first_Home</th>\n",
       "      <th>productlist_first_Home.Improvement</th>\n",
       "      <th>productlist_first_Jewelry...Watches</th>\n",
       "      <th>productlist_first_Kitchen</th>\n",
       "      <th>productlist_first_Movies</th>\n",
       "      <th>productlist_first_Personal.Care</th>\n",
       "      <th>productlist_first_Shoes</th>\n",
       "      <th>productlist_first_Sports...Outdoors</th>\n",
       "      <th>productlist_first_Toys</th>\n",
       "      <th>productlist_first_Video.Games</th>\n",
       "    </tr>\n",
       "  </thead>\n",
       "  <tbody>\n",
       "    <tr>\n",
       "      <th>0</th>\n",
       "      <td>-0.184591</td>\n",
       "      <td>60</td>\n",
       "      <td>0</td>\n",
       "      <td>Category2</td>\n",
       "      <td>1</td>\n",
       "      <td>0</td>\n",
       "      <td>0</td>\n",
       "      <td>0</td>\n",
       "      <td>1</td>\n",
       "      <td>0</td>\n",
       "      <td>...</td>\n",
       "      <td>0</td>\n",
       "      <td>0</td>\n",
       "      <td>0</td>\n",
       "      <td>0</td>\n",
       "      <td>0</td>\n",
       "      <td>1</td>\n",
       "      <td>0</td>\n",
       "      <td>0</td>\n",
       "      <td>0</td>\n",
       "      <td>0</td>\n",
       "    </tr>\n",
       "    <tr>\n",
       "      <th>1</th>\n",
       "      <td>0.173183</td>\n",
       "      <td>67</td>\n",
       "      <td>1</td>\n",
       "      <td>Category4</td>\n",
       "      <td>1</td>\n",
       "      <td>0</td>\n",
       "      <td>0</td>\n",
       "      <td>0</td>\n",
       "      <td>1</td>\n",
       "      <td>0</td>\n",
       "      <td>...</td>\n",
       "      <td>0</td>\n",
       "      <td>0</td>\n",
       "      <td>0</td>\n",
       "      <td>0</td>\n",
       "      <td>0</td>\n",
       "      <td>1</td>\n",
       "      <td>0</td>\n",
       "      <td>0</td>\n",
       "      <td>0</td>\n",
       "      <td>0</td>\n",
       "    </tr>\n",
       "    <tr>\n",
       "      <th>2</th>\n",
       "      <td>-0.421184</td>\n",
       "      <td>61</td>\n",
       "      <td>1</td>\n",
       "      <td>Category2</td>\n",
       "      <td>1</td>\n",
       "      <td>0</td>\n",
       "      <td>0</td>\n",
       "      <td>0</td>\n",
       "      <td>0</td>\n",
       "      <td>1</td>\n",
       "      <td>...</td>\n",
       "      <td>0</td>\n",
       "      <td>0</td>\n",
       "      <td>0</td>\n",
       "      <td>0</td>\n",
       "      <td>0</td>\n",
       "      <td>0</td>\n",
       "      <td>0</td>\n",
       "      <td>0</td>\n",
       "      <td>0</td>\n",
       "      <td>0</td>\n",
       "    </tr>\n",
       "    <tr>\n",
       "      <th>3</th>\n",
       "      <td>-0.888599</td>\n",
       "      <td>60</td>\n",
       "      <td>0</td>\n",
       "      <td>Category4</td>\n",
       "      <td>1</td>\n",
       "      <td>0</td>\n",
       "      <td>0</td>\n",
       "      <td>0</td>\n",
       "      <td>0</td>\n",
       "      <td>0</td>\n",
       "      <td>...</td>\n",
       "      <td>0</td>\n",
       "      <td>0</td>\n",
       "      <td>0</td>\n",
       "      <td>0</td>\n",
       "      <td>0</td>\n",
       "      <td>0</td>\n",
       "      <td>0</td>\n",
       "      <td>0</td>\n",
       "      <td>0</td>\n",
       "      <td>0</td>\n",
       "    </tr>\n",
       "    <tr>\n",
       "      <th>4</th>\n",
       "      <td>-0.300002</td>\n",
       "      <td>82</td>\n",
       "      <td>0</td>\n",
       "      <td>Category4</td>\n",
       "      <td>1</td>\n",
       "      <td>0</td>\n",
       "      <td>0</td>\n",
       "      <td>0</td>\n",
       "      <td>1</td>\n",
       "      <td>0</td>\n",
       "      <td>...</td>\n",
       "      <td>0</td>\n",
       "      <td>0</td>\n",
       "      <td>0</td>\n",
       "      <td>0</td>\n",
       "      <td>0</td>\n",
       "      <td>0</td>\n",
       "      <td>0</td>\n",
       "      <td>0</td>\n",
       "      <td>0</td>\n",
       "      <td>0</td>\n",
       "    </tr>\n",
       "  </tbody>\n",
       "</table>\n",
       "<p>5 rows × 58 columns</p>\n",
       "</div>"
      ],
      "text/plain": [
       "   mean.visitpagenum.  myaccountengagement  used_promo   category  \\\n",
       "0           -0.184591                   60           0  Category2   \n",
       "1            0.173183                   67           1  Category4   \n",
       "2           -0.421184                   61           1  Category2   \n",
       "3           -0.888599                   60           0  Category4   \n",
       "4           -0.300002                   82           0  Category4   \n",
       "\n",
       "   devicetype_Mobile  devicetype_Tablet  devicetype_Unknown  \\\n",
       "0                  1                  0                   0   \n",
       "1                  1                  0                   0   \n",
       "2                  1                  0                   0   \n",
       "3                  1                  0                   0   \n",
       "4                  1                  0                   0   \n",
       "\n",
       "   firsthitpagename_checkout  firsthitpagename_index  \\\n",
       "0                          0                       1   \n",
       "1                          0                       1   \n",
       "2                          0                       0   \n",
       "3                          0                       0   \n",
       "4                          0                       1   \n",
       "\n",
       "   firsthitpagename_my.account  ...  productlist_first_Home  \\\n",
       "0                            0  ...                       0   \n",
       "1                            0  ...                       0   \n",
       "2                            1  ...                       0   \n",
       "3                            0  ...                       0   \n",
       "4                            0  ...                       0   \n",
       "\n",
       "   productlist_first_Home.Improvement  productlist_first_Jewelry...Watches  \\\n",
       "0                                   0                                    0   \n",
       "1                                   0                                    0   \n",
       "2                                   0                                    0   \n",
       "3                                   0                                    0   \n",
       "4                                   0                                    0   \n",
       "\n",
       "   productlist_first_Kitchen  productlist_first_Movies  \\\n",
       "0                          0                         0   \n",
       "1                          0                         0   \n",
       "2                          0                         0   \n",
       "3                          0                         0   \n",
       "4                          0                         0   \n",
       "\n",
       "   productlist_first_Personal.Care  productlist_first_Shoes  \\\n",
       "0                                1                        0   \n",
       "1                                1                        0   \n",
       "2                                0                        0   \n",
       "3                                0                        0   \n",
       "4                                0                        0   \n",
       "\n",
       "   productlist_first_Sports...Outdoors  productlist_first_Toys  \\\n",
       "0                                    0                       0   \n",
       "1                                    0                       0   \n",
       "2                                    0                       0   \n",
       "3                                    0                       0   \n",
       "4                                    0                       0   \n",
       "\n",
       "   productlist_first_Video.Games  \n",
       "0                              0  \n",
       "1                              0  \n",
       "2                              0  \n",
       "3                              0  \n",
       "4                              0  \n",
       "\n",
       "[5 rows x 58 columns]"
      ]
     },
     "execution_count": 3,
     "metadata": {},
     "output_type": "execute_result"
    }
   ],
   "source": [
    "full_data.head()"
   ]
  },
  {
   "cell_type": "markdown",
   "id": "66814973",
   "metadata": {
    "id": "66814973"
   },
   "source": [
    "Since logistic regression tries to find a linear boundary between classes in our data, we will first try to visualize our data."
   ]
  },
  {
   "cell_type": "code",
   "execution_count": 4,
   "id": "75bcceea",
   "metadata": {
    "colab": {
     "base_uri": "https://localhost:8080/",
     "height": 394
    },
    "id": "75bcceea",
    "outputId": "97e06837-9829-4f17-e22c-6c6af2c7ad82",
    "scrolled": true
   },
   "outputs": [
    {
     "data": {
      "text/html": [
       "<div>\n",
       "<style scoped>\n",
       "    .dataframe tbody tr th:only-of-type {\n",
       "        vertical-align: middle;\n",
       "    }\n",
       "\n",
       "    .dataframe tbody tr th {\n",
       "        vertical-align: top;\n",
       "    }\n",
       "\n",
       "    .dataframe thead th {\n",
       "        text-align: right;\n",
       "    }\n",
       "</style>\n",
       "<table border=\"1\" class=\"dataframe\">\n",
       "  <thead>\n",
       "    <tr style=\"text-align: right;\">\n",
       "      <th></th>\n",
       "      <th>mean.visitpagenum.</th>\n",
       "      <th>myaccountengagement</th>\n",
       "      <th>used_promo</th>\n",
       "      <th>devicetype_Mobile</th>\n",
       "      <th>devicetype_Tablet</th>\n",
       "      <th>devicetype_Unknown</th>\n",
       "      <th>firsthitpagename_checkout</th>\n",
       "      <th>firsthitpagename_index</th>\n",
       "      <th>firsthitpagename_my.account</th>\n",
       "      <th>firsthitpagename_other</th>\n",
       "      <th>...</th>\n",
       "      <th>productlist_first_Home</th>\n",
       "      <th>productlist_first_Home.Improvement</th>\n",
       "      <th>productlist_first_Jewelry...Watches</th>\n",
       "      <th>productlist_first_Kitchen</th>\n",
       "      <th>productlist_first_Movies</th>\n",
       "      <th>productlist_first_Personal.Care</th>\n",
       "      <th>productlist_first_Shoes</th>\n",
       "      <th>productlist_first_Sports...Outdoors</th>\n",
       "      <th>productlist_first_Toys</th>\n",
       "      <th>productlist_first_Video.Games</th>\n",
       "    </tr>\n",
       "  </thead>\n",
       "  <tbody>\n",
       "    <tr>\n",
       "      <th>count</th>\n",
       "      <td>7.500000e+03</td>\n",
       "      <td>7500.000000</td>\n",
       "      <td>7500.000000</td>\n",
       "      <td>7500.000000</td>\n",
       "      <td>7500.000000</td>\n",
       "      <td>7500.0</td>\n",
       "      <td>7500.00000</td>\n",
       "      <td>7500.000000</td>\n",
       "      <td>7500.000000</td>\n",
       "      <td>7500.000000</td>\n",
       "      <td>...</td>\n",
       "      <td>7500.000000</td>\n",
       "      <td>7500.000000</td>\n",
       "      <td>7500.000000</td>\n",
       "      <td>7500.000000</td>\n",
       "      <td>7500.000000</td>\n",
       "      <td>7500.000000</td>\n",
       "      <td>7500.000000</td>\n",
       "      <td>7500.000000</td>\n",
       "      <td>7500.000000</td>\n",
       "      <td>7500.000000</td>\n",
       "    </tr>\n",
       "    <tr>\n",
       "      <th>mean</th>\n",
       "      <td>5.065133e-16</td>\n",
       "      <td>65.856133</td>\n",
       "      <td>0.436533</td>\n",
       "      <td>0.484533</td>\n",
       "      <td>0.269200</td>\n",
       "      <td>0.0</td>\n",
       "      <td>0.00200</td>\n",
       "      <td>0.469467</td>\n",
       "      <td>0.396400</td>\n",
       "      <td>0.036400</td>\n",
       "      <td>...</td>\n",
       "      <td>0.061200</td>\n",
       "      <td>0.014000</td>\n",
       "      <td>0.054800</td>\n",
       "      <td>0.086800</td>\n",
       "      <td>0.006533</td>\n",
       "      <td>0.062267</td>\n",
       "      <td>0.088400</td>\n",
       "      <td>0.039733</td>\n",
       "      <td>0.131067</td>\n",
       "      <td>0.077733</td>\n",
       "    </tr>\n",
       "    <tr>\n",
       "      <th>std</th>\n",
       "      <td>1.000000e+00</td>\n",
       "      <td>7.127791</td>\n",
       "      <td>0.495989</td>\n",
       "      <td>0.499794</td>\n",
       "      <td>0.443574</td>\n",
       "      <td>0.0</td>\n",
       "      <td>0.04468</td>\n",
       "      <td>0.499100</td>\n",
       "      <td>0.489182</td>\n",
       "      <td>0.187296</td>\n",
       "      <td>...</td>\n",
       "      <td>0.239713</td>\n",
       "      <td>0.117498</td>\n",
       "      <td>0.227605</td>\n",
       "      <td>0.281561</td>\n",
       "      <td>0.080570</td>\n",
       "      <td>0.241655</td>\n",
       "      <td>0.283895</td>\n",
       "      <td>0.195345</td>\n",
       "      <td>0.337496</td>\n",
       "      <td>0.267769</td>\n",
       "    </tr>\n",
       "    <tr>\n",
       "      <th>min</th>\n",
       "      <td>-1.130962e+00</td>\n",
       "      <td>1.000000</td>\n",
       "      <td>0.000000</td>\n",
       "      <td>0.000000</td>\n",
       "      <td>0.000000</td>\n",
       "      <td>0.0</td>\n",
       "      <td>0.00000</td>\n",
       "      <td>0.000000</td>\n",
       "      <td>0.000000</td>\n",
       "      <td>0.000000</td>\n",
       "      <td>...</td>\n",
       "      <td>0.000000</td>\n",
       "      <td>0.000000</td>\n",
       "      <td>0.000000</td>\n",
       "      <td>0.000000</td>\n",
       "      <td>0.000000</td>\n",
       "      <td>0.000000</td>\n",
       "      <td>0.000000</td>\n",
       "      <td>0.000000</td>\n",
       "      <td>0.000000</td>\n",
       "      <td>0.000000</td>\n",
       "    </tr>\n",
       "    <tr>\n",
       "      <th>25%</th>\n",
       "      <td>-6.577766e-01</td>\n",
       "      <td>61.000000</td>\n",
       "      <td>0.000000</td>\n",
       "      <td>0.000000</td>\n",
       "      <td>0.000000</td>\n",
       "      <td>0.0</td>\n",
       "      <td>0.00000</td>\n",
       "      <td>0.000000</td>\n",
       "      <td>0.000000</td>\n",
       "      <td>0.000000</td>\n",
       "      <td>...</td>\n",
       "      <td>0.000000</td>\n",
       "      <td>0.000000</td>\n",
       "      <td>0.000000</td>\n",
       "      <td>0.000000</td>\n",
       "      <td>0.000000</td>\n",
       "      <td>0.000000</td>\n",
       "      <td>0.000000</td>\n",
       "      <td>0.000000</td>\n",
       "      <td>0.000000</td>\n",
       "      <td>0.000000</td>\n",
       "    </tr>\n",
       "    <tr>\n",
       "      <th>50%</th>\n",
       "      <td>-3.000024e-01</td>\n",
       "      <td>64.000000</td>\n",
       "      <td>0.000000</td>\n",
       "      <td>0.000000</td>\n",
       "      <td>0.000000</td>\n",
       "      <td>0.0</td>\n",
       "      <td>0.00000</td>\n",
       "      <td>0.000000</td>\n",
       "      <td>0.000000</td>\n",
       "      <td>0.000000</td>\n",
       "      <td>...</td>\n",
       "      <td>0.000000</td>\n",
       "      <td>0.000000</td>\n",
       "      <td>0.000000</td>\n",
       "      <td>0.000000</td>\n",
       "      <td>0.000000</td>\n",
       "      <td>0.000000</td>\n",
       "      <td>0.000000</td>\n",
       "      <td>0.000000</td>\n",
       "      <td>0.000000</td>\n",
       "      <td>0.000000</td>\n",
       "    </tr>\n",
       "    <tr>\n",
       "      <th>75%</th>\n",
       "      <td>3.116762e-01</td>\n",
       "      <td>70.000000</td>\n",
       "      <td>1.000000</td>\n",
       "      <td>1.000000</td>\n",
       "      <td>1.000000</td>\n",
       "      <td>0.0</td>\n",
       "      <td>0.00000</td>\n",
       "      <td>1.000000</td>\n",
       "      <td>1.000000</td>\n",
       "      <td>0.000000</td>\n",
       "      <td>...</td>\n",
       "      <td>0.000000</td>\n",
       "      <td>0.000000</td>\n",
       "      <td>0.000000</td>\n",
       "      <td>0.000000</td>\n",
       "      <td>0.000000</td>\n",
       "      <td>0.000000</td>\n",
       "      <td>0.000000</td>\n",
       "      <td>0.000000</td>\n",
       "      <td>0.000000</td>\n",
       "      <td>0.000000</td>\n",
       "    </tr>\n",
       "    <tr>\n",
       "      <th>max</th>\n",
       "      <td>8.678977e+00</td>\n",
       "      <td>94.000000</td>\n",
       "      <td>1.000000</td>\n",
       "      <td>1.000000</td>\n",
       "      <td>1.000000</td>\n",
       "      <td>0.0</td>\n",
       "      <td>1.00000</td>\n",
       "      <td>1.000000</td>\n",
       "      <td>1.000000</td>\n",
       "      <td>1.000000</td>\n",
       "      <td>...</td>\n",
       "      <td>1.000000</td>\n",
       "      <td>1.000000</td>\n",
       "      <td>1.000000</td>\n",
       "      <td>1.000000</td>\n",
       "      <td>1.000000</td>\n",
       "      <td>1.000000</td>\n",
       "      <td>1.000000</td>\n",
       "      <td>1.000000</td>\n",
       "      <td>1.000000</td>\n",
       "      <td>1.000000</td>\n",
       "    </tr>\n",
       "  </tbody>\n",
       "</table>\n",
       "<p>8 rows × 57 columns</p>\n",
       "</div>"
      ],
      "text/plain": [
       "       mean.visitpagenum.  myaccountengagement   used_promo  \\\n",
       "count        7.500000e+03          7500.000000  7500.000000   \n",
       "mean         5.065133e-16            65.856133     0.436533   \n",
       "std          1.000000e+00             7.127791     0.495989   \n",
       "min         -1.130962e+00             1.000000     0.000000   \n",
       "25%         -6.577766e-01            61.000000     0.000000   \n",
       "50%         -3.000024e-01            64.000000     0.000000   \n",
       "75%          3.116762e-01            70.000000     1.000000   \n",
       "max          8.678977e+00            94.000000     1.000000   \n",
       "\n",
       "       devicetype_Mobile  devicetype_Tablet  devicetype_Unknown  \\\n",
       "count        7500.000000        7500.000000              7500.0   \n",
       "mean            0.484533           0.269200                 0.0   \n",
       "std             0.499794           0.443574                 0.0   \n",
       "min             0.000000           0.000000                 0.0   \n",
       "25%             0.000000           0.000000                 0.0   \n",
       "50%             0.000000           0.000000                 0.0   \n",
       "75%             1.000000           1.000000                 0.0   \n",
       "max             1.000000           1.000000                 0.0   \n",
       "\n",
       "       firsthitpagename_checkout  firsthitpagename_index  \\\n",
       "count                 7500.00000             7500.000000   \n",
       "mean                     0.00200                0.469467   \n",
       "std                      0.04468                0.499100   \n",
       "min                      0.00000                0.000000   \n",
       "25%                      0.00000                0.000000   \n",
       "50%                      0.00000                0.000000   \n",
       "75%                      0.00000                1.000000   \n",
       "max                      1.00000                1.000000   \n",
       "\n",
       "       firsthitpagename_my.account  firsthitpagename_other  ...  \\\n",
       "count                  7500.000000             7500.000000  ...   \n",
       "mean                      0.396400                0.036400  ...   \n",
       "std                       0.489182                0.187296  ...   \n",
       "min                       0.000000                0.000000  ...   \n",
       "25%                       0.000000                0.000000  ...   \n",
       "50%                       0.000000                0.000000  ...   \n",
       "75%                       1.000000                0.000000  ...   \n",
       "max                       1.000000                1.000000  ...   \n",
       "\n",
       "       productlist_first_Home  productlist_first_Home.Improvement  \\\n",
       "count             7500.000000                         7500.000000   \n",
       "mean                 0.061200                            0.014000   \n",
       "std                  0.239713                            0.117498   \n",
       "min                  0.000000                            0.000000   \n",
       "25%                  0.000000                            0.000000   \n",
       "50%                  0.000000                            0.000000   \n",
       "75%                  0.000000                            0.000000   \n",
       "max                  1.000000                            1.000000   \n",
       "\n",
       "       productlist_first_Jewelry...Watches  productlist_first_Kitchen  \\\n",
       "count                          7500.000000                7500.000000   \n",
       "mean                              0.054800                   0.086800   \n",
       "std                               0.227605                   0.281561   \n",
       "min                               0.000000                   0.000000   \n",
       "25%                               0.000000                   0.000000   \n",
       "50%                               0.000000                   0.000000   \n",
       "75%                               0.000000                   0.000000   \n",
       "max                               1.000000                   1.000000   \n",
       "\n",
       "       productlist_first_Movies  productlist_first_Personal.Care  \\\n",
       "count               7500.000000                      7500.000000   \n",
       "mean                   0.006533                         0.062267   \n",
       "std                    0.080570                         0.241655   \n",
       "min                    0.000000                         0.000000   \n",
       "25%                    0.000000                         0.000000   \n",
       "50%                    0.000000                         0.000000   \n",
       "75%                    0.000000                         0.000000   \n",
       "max                    1.000000                         1.000000   \n",
       "\n",
       "       productlist_first_Shoes  productlist_first_Sports...Outdoors  \\\n",
       "count              7500.000000                          7500.000000   \n",
       "mean                  0.088400                             0.039733   \n",
       "std                   0.283895                             0.195345   \n",
       "min                   0.000000                             0.000000   \n",
       "25%                   0.000000                             0.000000   \n",
       "50%                   0.000000                             0.000000   \n",
       "75%                   0.000000                             0.000000   \n",
       "max                   1.000000                             1.000000   \n",
       "\n",
       "       productlist_first_Toys  productlist_first_Video.Games  \n",
       "count             7500.000000                    7500.000000  \n",
       "mean                 0.131067                       0.077733  \n",
       "std                  0.337496                       0.267769  \n",
       "min                  0.000000                       0.000000  \n",
       "25%                  0.000000                       0.000000  \n",
       "50%                  0.000000                       0.000000  \n",
       "75%                  0.000000                       0.000000  \n",
       "max                  1.000000                       1.000000  \n",
       "\n",
       "[8 rows x 57 columns]"
      ]
     },
     "execution_count": 4,
     "metadata": {},
     "output_type": "execute_result"
    }
   ],
   "source": [
    "full_data.describe()"
   ]
  },
  {
   "cell_type": "code",
   "execution_count": 5,
   "id": "26631170",
   "metadata": {
    "colab": {
     "base_uri": "https://localhost:8080/",
     "height": 568
    },
    "id": "26631170",
    "outputId": "fa92d2a4-22c6-4aca-9a3c-67992fcb99f5",
    "scrolled": true
   },
   "outputs": [
    {
     "data": {
      "text/plain": [
       "<AxesSubplot:>"
      ]
     },
     "execution_count": 5,
     "metadata": {},
     "output_type": "execute_result"
    },
    {
     "data": {
      "image/png": "[encoded data removed]",
      "text/plain": [
       "<Figure size 600x600 with 2 Axes>"
      ]
     },
     "metadata": {},
     "output_type": "display_data"
    }
   ],
   "source": [
    "plt.figure(figsize=(6,6))\n",
    "sns.heatmap(full_data.corr())"
   ]
  },
  {
   "cell_type": "code",
   "execution_count": 6,
   "id": "4c8d12c8",
   "metadata": {
    "colab": {
     "base_uri": "https://localhost:8080/",
     "height": 313
    },
    "id": "4c8d12c8",
    "outputId": "7bbbfdf5-16b7-4e95-b437-c9f36493dcbc",
    "scrolled": true
   },
   "outputs": [
    {
     "data": {
      "text/plain": [
       "Text(0.5, 1.0, 'Histogram of Categories (Category Frequency)')"
      ]
     },
     "execution_count": 6,
     "metadata": {},
     "output_type": "execute_result"
    },
    {
     "data": {
      "image/png": "[encoded data removed]",
      "text/plain": [
       "<Figure size 640x480 with 1 Axes>"
      ]
     },
     "metadata": {},
     "output_type": "display_data"
    }
   ],
   "source": [
    "# Visualization - lots of cases of Category 4\n",
    "plt.hist(full_data[['category']])\n",
    "plt.xlabel('Category')\n",
    "plt.ylabel('Value Counts')\n",
    "plt.title('Histogram of Categories (Category Frequency)')"
   ]
  },
  {
   "cell_type": "markdown",
   "id": "2d687411",
   "metadata": {
    "id": "2d687411"
   },
   "source": [
    "We split our dataset into our features (57 features) and our target (1 target)."
   ]
  },
  {
   "cell_type": "code",
   "execution_count": 7,
   "id": "9kHFtrpgTXwE",
   "metadata": {
    "colab": {
     "base_uri": "https://localhost:8080/",
     "height": 300
    },
    "id": "9kHFtrpgTXwE",
    "outputId": "83e82efd-1ac8-4ede-8a32-9954c9dae52a"
   },
   "outputs": [
    {
     "data": {
      "text/html": [
       "<div>\n",
       "<style scoped>\n",
       "    .dataframe tbody tr th:only-of-type {\n",
       "        vertical-align: middle;\n",
       "    }\n",
       "\n",
       "    .dataframe tbody tr th {\n",
       "        vertical-align: top;\n",
       "    }\n",
       "\n",
       "    .dataframe thead th {\n",
       "        text-align: right;\n",
       "    }\n",
       "</style>\n",
       "<table border=\"1\" class=\"dataframe\">\n",
       "  <thead>\n",
       "    <tr style=\"text-align: right;\">\n",
       "      <th></th>\n",
       "      <th>mean.visitpagenum.</th>\n",
       "      <th>myaccountengagement</th>\n",
       "      <th>used_promo</th>\n",
       "      <th>category</th>\n",
       "      <th>devicetype_Mobile</th>\n",
       "      <th>devicetype_Tablet</th>\n",
       "      <th>devicetype_Unknown</th>\n",
       "      <th>firsthitpagename_checkout</th>\n",
       "      <th>firsthitpagename_index</th>\n",
       "      <th>firsthitpagename_my.account</th>\n",
       "      <th>...</th>\n",
       "      <th>productlist_first_Home</th>\n",
       "      <th>productlist_first_Home.Improvement</th>\n",
       "      <th>productlist_first_Jewelry...Watches</th>\n",
       "      <th>productlist_first_Kitchen</th>\n",
       "      <th>productlist_first_Movies</th>\n",
       "      <th>productlist_first_Personal.Care</th>\n",
       "      <th>productlist_first_Shoes</th>\n",
       "      <th>productlist_first_Sports...Outdoors</th>\n",
       "      <th>productlist_first_Toys</th>\n",
       "      <th>productlist_first_Video.Games</th>\n",
       "    </tr>\n",
       "  </thead>\n",
       "  <tbody>\n",
       "    <tr>\n",
       "      <th>0</th>\n",
       "      <td>-0.184591</td>\n",
       "      <td>60</td>\n",
       "      <td>0</td>\n",
       "      <td>Category2</td>\n",
       "      <td>1</td>\n",
       "      <td>0</td>\n",
       "      <td>0</td>\n",
       "      <td>0</td>\n",
       "      <td>1</td>\n",
       "      <td>0</td>\n",
       "      <td>...</td>\n",
       "      <td>0</td>\n",
       "      <td>0</td>\n",
       "      <td>0</td>\n",
       "      <td>0</td>\n",
       "      <td>0</td>\n",
       "      <td>1</td>\n",
       "      <td>0</td>\n",
       "      <td>0</td>\n",
       "      <td>0</td>\n",
       "      <td>0</td>\n",
       "    </tr>\n",
       "    <tr>\n",
       "      <th>1</th>\n",
       "      <td>0.173183</td>\n",
       "      <td>67</td>\n",
       "      <td>1</td>\n",
       "      <td>Category4</td>\n",
       "      <td>1</td>\n",
       "      <td>0</td>\n",
       "      <td>0</td>\n",
       "      <td>0</td>\n",
       "      <td>1</td>\n",
       "      <td>0</td>\n",
       "      <td>...</td>\n",
       "      <td>0</td>\n",
       "      <td>0</td>\n",
       "      <td>0</td>\n",
       "      <td>0</td>\n",
       "      <td>0</td>\n",
       "      <td>1</td>\n",
       "      <td>0</td>\n",
       "      <td>0</td>\n",
       "      <td>0</td>\n",
       "      <td>0</td>\n",
       "    </tr>\n",
       "    <tr>\n",
       "      <th>2</th>\n",
       "      <td>-0.421184</td>\n",
       "      <td>61</td>\n",
       "      <td>1</td>\n",
       "      <td>Category2</td>\n",
       "      <td>1</td>\n",
       "      <td>0</td>\n",
       "      <td>0</td>\n",
       "      <td>0</td>\n",
       "      <td>0</td>\n",
       "      <td>1</td>\n",
       "      <td>...</td>\n",
       "      <td>0</td>\n",
       "      <td>0</td>\n",
       "      <td>0</td>\n",
       "      <td>0</td>\n",
       "      <td>0</td>\n",
       "      <td>0</td>\n",
       "      <td>0</td>\n",
       "      <td>0</td>\n",
       "      <td>0</td>\n",
       "      <td>0</td>\n",
       "    </tr>\n",
       "    <tr>\n",
       "      <th>3</th>\n",
       "      <td>-0.888599</td>\n",
       "      <td>60</td>\n",
       "      <td>0</td>\n",
       "      <td>Category4</td>\n",
       "      <td>1</td>\n",
       "      <td>0</td>\n",
       "      <td>0</td>\n",
       "      <td>0</td>\n",
       "      <td>0</td>\n",
       "      <td>0</td>\n",
       "      <td>...</td>\n",
       "      <td>0</td>\n",
       "      <td>0</td>\n",
       "      <td>0</td>\n",
       "      <td>0</td>\n",
       "      <td>0</td>\n",
       "      <td>0</td>\n",
       "      <td>0</td>\n",
       "      <td>0</td>\n",
       "      <td>0</td>\n",
       "      <td>0</td>\n",
       "    </tr>\n",
       "    <tr>\n",
       "      <th>4</th>\n",
       "      <td>-0.300002</td>\n",
       "      <td>82</td>\n",
       "      <td>0</td>\n",
       "      <td>Category4</td>\n",
       "      <td>1</td>\n",
       "      <td>0</td>\n",
       "      <td>0</td>\n",
       "      <td>0</td>\n",
       "      <td>1</td>\n",
       "      <td>0</td>\n",
       "      <td>...</td>\n",
       "      <td>0</td>\n",
       "      <td>0</td>\n",
       "      <td>0</td>\n",
       "      <td>0</td>\n",
       "      <td>0</td>\n",
       "      <td>0</td>\n",
       "      <td>0</td>\n",
       "      <td>0</td>\n",
       "      <td>0</td>\n",
       "      <td>0</td>\n",
       "    </tr>\n",
       "  </tbody>\n",
       "</table>\n",
       "<p>5 rows × 58 columns</p>\n",
       "</div>"
      ],
      "text/plain": [
       "   mean.visitpagenum.  myaccountengagement  used_promo   category  \\\n",
       "0           -0.184591                   60           0  Category2   \n",
       "1            0.173183                   67           1  Category4   \n",
       "2           -0.421184                   61           1  Category2   \n",
       "3           -0.888599                   60           0  Category4   \n",
       "4           -0.300002                   82           0  Category4   \n",
       "\n",
       "   devicetype_Mobile  devicetype_Tablet  devicetype_Unknown  \\\n",
       "0                  1                  0                   0   \n",
       "1                  1                  0                   0   \n",
       "2                  1                  0                   0   \n",
       "3                  1                  0                   0   \n",
       "4                  1                  0                   0   \n",
       "\n",
       "   firsthitpagename_checkout  firsthitpagename_index  \\\n",
       "0                          0                       1   \n",
       "1                          0                       1   \n",
       "2                          0                       0   \n",
       "3                          0                       0   \n",
       "4                          0                       1   \n",
       "\n",
       "   firsthitpagename_my.account  ...  productlist_first_Home  \\\n",
       "0                            0  ...                       0   \n",
       "1                            0  ...                       0   \n",
       "2                            1  ...                       0   \n",
       "3                            0  ...                       0   \n",
       "4                            0  ...                       0   \n",
       "\n",
       "   productlist_first_Home.Improvement  productlist_first_Jewelry...Watches  \\\n",
       "0                                   0                                    0   \n",
       "1                                   0                                    0   \n",
       "2                                   0                                    0   \n",
       "3                                   0                                    0   \n",
       "4                                   0                                    0   \n",
       "\n",
       "   productlist_first_Kitchen  productlist_first_Movies  \\\n",
       "0                          0                         0   \n",
       "1                          0                         0   \n",
       "2                          0                         0   \n",
       "3                          0                         0   \n",
       "4                          0                         0   \n",
       "\n",
       "   productlist_first_Personal.Care  productlist_first_Shoes  \\\n",
       "0                                1                        0   \n",
       "1                                1                        0   \n",
       "2                                0                        0   \n",
       "3                                0                        0   \n",
       "4                                0                        0   \n",
       "\n",
       "   productlist_first_Sports...Outdoors  productlist_first_Toys  \\\n",
       "0                                    0                       0   \n",
       "1                                    0                       0   \n",
       "2                                    0                       0   \n",
       "3                                    0                       0   \n",
       "4                                    0                       0   \n",
       "\n",
       "   productlist_first_Video.Games  \n",
       "0                              0  \n",
       "1                              0  \n",
       "2                              0  \n",
       "3                              0  \n",
       "4                              0  \n",
       "\n",
       "[5 rows x 58 columns]"
      ]
     },
     "execution_count": 7,
     "metadata": {},
     "output_type": "execute_result"
    }
   ],
   "source": [
    "full_data.head()"
   ]
  },
  {
   "cell_type": "code",
   "execution_count": 8,
   "id": "9f99c794",
   "metadata": {
    "id": "9f99c794"
   },
   "outputs": [],
   "source": [
    "# features_list = ['devicetype', 'firsthitpagename', 'mean.visitpagenum.', 'evar28', 'prop29', 'state', 'myaccountengagement', 'used_promo']\n",
    "features_list = full_data.columns.values.tolist()"
   ]
  },
  {
   "cell_type": "code",
   "execution_count": 9,
   "id": "ke2oJUXeOjTi",
   "metadata": {
    "colab": {
     "base_uri": "https://localhost:8080/"
    },
    "id": "ke2oJUXeOjTi",
    "outputId": "75e81837-6054-4181-dc17-6c2ad11e0936"
   },
   "outputs": [
    {
     "name": "stdout",
     "output_type": "stream",
     "text": [
      "None\n"
     ]
    }
   ],
   "source": [
    "print(features_list.remove('category'))"
   ]
  },
  {
   "cell_type": "code",
   "execution_count": 10,
   "id": "nFHPvqLkO3B7",
   "metadata": {
    "colab": {
     "base_uri": "https://localhost:8080/"
    },
    "id": "nFHPvqLkO3B7",
    "outputId": "bcde29ee-69b5-41a6-b523-6eee4f00ed7c"
   },
   "outputs": [
    {
     "data": {
      "text/plain": [
       "['mean.visitpagenum.',\n",
       " 'myaccountengagement',\n",
       " 'used_promo',\n",
       " 'devicetype_Mobile',\n",
       " 'devicetype_Tablet',\n",
       " 'devicetype_Unknown',\n",
       " 'firsthitpagename_checkout',\n",
       " 'firsthitpagename_index',\n",
       " 'firsthitpagename_my.account',\n",
       " 'firsthitpagename_other',\n",
       " 'firsthitpagename_pdp',\n",
       " 'firsthitpagename_search',\n",
       " 'evar28_X1_Valuable_Other',\n",
       " 'evar28_X2_Growable_Mature',\n",
       " 'evar28_X2_Growable_Other',\n",
       " 'evar28_X3_Expandable_Mature',\n",
       " 'evar28_X3_Expandable_Other',\n",
       " 'evar28_X4_Developing_Mature',\n",
       " 'evar28_X4_Developing_Other',\n",
       " 'evar28_X5_Fragile_Mature',\n",
       " 'evar28_X5_Fragile_Other',\n",
       " 'evar28_X6_Missing_Mature',\n",
       " 'evar28_X6_Missing_Other',\n",
       " 'evar28_None',\n",
       " 'prop29_Emerging',\n",
       " 'prop29_FreshStart',\n",
       " 'prop29_FSApproved',\n",
       " 'prop29_FSCleanup',\n",
       " 'prop29_FSGrad',\n",
       " 'prop29_FSRetry',\n",
       " 'prop29_Graduate.FS',\n",
       " 'prop29_Mature',\n",
       " 'prop29_New',\n",
       " 'prop29_None',\n",
       " 'prop29_Prospect',\n",
       " 'state_FL',\n",
       " 'state_NY',\n",
       " 'state_PA',\n",
       " 'state_TX',\n",
       " 'state_other',\n",
       " 'productlist_first_Automotive',\n",
       " 'productlist_first_Baby',\n",
       " 'productlist_first_Bed...Bath',\n",
       " 'productlist_first_Clothing',\n",
       " 'productlist_first_Electronics',\n",
       " 'productlist_first_Furniture',\n",
       " 'productlist_first_Gifts',\n",
       " 'productlist_first_Home',\n",
       " 'productlist_first_Home.Improvement',\n",
       " 'productlist_first_Jewelry...Watches',\n",
       " 'productlist_first_Kitchen',\n",
       " 'productlist_first_Movies',\n",
       " 'productlist_first_Personal.Care',\n",
       " 'productlist_first_Shoes',\n",
       " 'productlist_first_Sports...Outdoors',\n",
       " 'productlist_first_Toys',\n",
       " 'productlist_first_Video.Games']"
      ]
     },
     "execution_count": 10,
     "metadata": {},
     "output_type": "execute_result"
    }
   ],
   "source": [
    "features_list"
   ]
  },
  {
   "cell_type": "code",
   "execution_count": 11,
   "id": "49246226",
   "metadata": {
    "colab": {
     "base_uri": "https://localhost:8080/"
    },
    "id": "49246226",
    "outputId": "c5e4f051-b11a-4263-8ea4-e45131c3ba21"
   },
   "outputs": [
    {
     "data": {
      "text/plain": [
       "57"
      ]
     },
     "execution_count": 11,
     "metadata": {},
     "output_type": "execute_result"
    }
   ],
   "source": [
    "len(features_list)"
   ]
  },
  {
   "cell_type": "code",
   "execution_count": 12,
   "id": "b9f3620a",
   "metadata": {
    "id": "b9f3620a"
   },
   "outputs": [],
   "source": [
    "def factor(var):\n",
    "    var_set = set(var)\n",
    "    var_set = {x: y for x, y in [pair for pair in zip(var_set, range(len(var_set)))]}\n",
    "    return [var_set[x] for x in var]"
   ]
  },
  {
   "cell_type": "markdown",
   "id": "8a808e50",
   "metadata": {
    "id": "8a808e50"
   },
   "source": [
    "Now we standardize the data to ensure that our data has a standard deviation of 1."
   ]
  },
  {
   "cell_type": "code",
   "execution_count": 13,
   "id": "07a8c6d9",
   "metadata": {
    "id": "07a8c6d9"
   },
   "outputs": [],
   "source": [
    "# features = subset_data[['devicetype', 'firsthitpagename', 'mean.visitpagenum.', 'evar28', 'prop29', 'state', 'myaccountengagement', 'used_promo']]\n",
    "features = full_data[features_list]\n",
    "features = features.to_numpy()\n",
    "target = full_data[['category']]\n",
    "target = target.to_numpy()\n",
    "target = np.squeeze(target)"
   ]
  },
  {
   "cell_type": "code",
   "execution_count": 14,
   "id": "fd6d777e",
   "metadata": {
    "colab": {
     "base_uri": "https://localhost:8080/"
    },
    "id": "fd6d777e",
    "outputId": "d4d039be-e132-4a93-cc8b-81fb4b1f7e7e",
    "scrolled": true
   },
   "outputs": [
    {
     "data": {
      "text/plain": [
       "((7500, 57), (7500,))"
      ]
     },
     "execution_count": 14,
     "metadata": {},
     "output_type": "execute_result"
    }
   ],
   "source": [
    "# 8 features, 1 target\n",
    "features.shape, target.shape"
   ]
  },
  {
   "cell_type": "code",
   "execution_count": 15,
   "id": "a904ea06",
   "metadata": {
    "id": "a904ea06",
    "scrolled": true
   },
   "outputs": [],
   "source": [
    "x = full_data['myaccountengagement'] - max(full_data['myaccountengagement'])"
   ]
  },
  {
   "cell_type": "code",
   "execution_count": 16,
   "id": "R7SMcbTUVzBs",
   "metadata": {
    "id": "R7SMcbTUVzBs"
   },
   "outputs": [],
   "source": [
    "y = max(full_data['myaccountengagement']) - min(full_data['myaccountengagement'])"
   ]
  },
  {
   "cell_type": "code",
   "execution_count": 17,
   "id": "TTHDAWSGWBeJ",
   "metadata": {
    "id": "TTHDAWSGWBeJ"
   },
   "outputs": [],
   "source": [
    "normalized_account = x/y"
   ]
  },
  {
   "cell_type": "code",
   "execution_count": 18,
   "id": "fZbIIxpoWCjS",
   "metadata": {
    "id": "fZbIIxpoWCjS"
   },
   "outputs": [],
   "source": [
    "full_data['myaccountengagement'] = normalized_account"
   ]
  },
  {
   "cell_type": "code",
   "execution_count": 19,
   "id": "83dNqAbGWDKh",
   "metadata": {
    "colab": {
     "base_uri": "https://localhost:8080/",
     "height": 300
    },
    "id": "83dNqAbGWDKh",
    "outputId": "bc56dc4a-c2b3-4024-def2-71f876e7933f"
   },
   "outputs": [
    {
     "data": {
      "text/html": [
       "<div>\n",
       "<style scoped>\n",
       "    .dataframe tbody tr th:only-of-type {\n",
       "        vertical-align: middle;\n",
       "    }\n",
       "\n",
       "    .dataframe tbody tr th {\n",
       "        vertical-align: top;\n",
       "    }\n",
       "\n",
       "    .dataframe thead th {\n",
       "        text-align: right;\n",
       "    }\n",
       "</style>\n",
       "<table border=\"1\" class=\"dataframe\">\n",
       "  <thead>\n",
       "    <tr style=\"text-align: right;\">\n",
       "      <th></th>\n",
       "      <th>mean.visitpagenum.</th>\n",
       "      <th>myaccountengagement</th>\n",
       "      <th>used_promo</th>\n",
       "      <th>category</th>\n",
       "      <th>devicetype_Mobile</th>\n",
       "      <th>devicetype_Tablet</th>\n",
       "      <th>devicetype_Unknown</th>\n",
       "      <th>firsthitpagename_checkout</th>\n",
       "      <th>firsthitpagename_index</th>\n",
       "      <th>firsthitpagename_my.account</th>\n",
       "      <th>...</th>\n",
       "      <th>productlist_first_Home</th>\n",
       "      <th>productlist_first_Home.Improvement</th>\n",
       "      <th>productlist_first_Jewelry...Watches</th>\n",
       "      <th>productlist_first_Kitchen</th>\n",
       "      <th>productlist_first_Movies</th>\n",
       "      <th>productlist_first_Personal.Care</th>\n",
       "      <th>productlist_first_Shoes</th>\n",
       "      <th>productlist_first_Sports...Outdoors</th>\n",
       "      <th>productlist_first_Toys</th>\n",
       "      <th>productlist_first_Video.Games</th>\n",
       "    </tr>\n",
       "  </thead>\n",
       "  <tbody>\n",
       "    <tr>\n",
       "      <th>0</th>\n",
       "      <td>-0.184591</td>\n",
       "      <td>-0.365591</td>\n",
       "      <td>0</td>\n",
       "      <td>Category2</td>\n",
       "      <td>1</td>\n",
       "      <td>0</td>\n",
       "      <td>0</td>\n",
       "      <td>0</td>\n",
       "      <td>1</td>\n",
       "      <td>0</td>\n",
       "      <td>...</td>\n",
       "      <td>0</td>\n",
       "      <td>0</td>\n",
       "      <td>0</td>\n",
       "      <td>0</td>\n",
       "      <td>0</td>\n",
       "      <td>1</td>\n",
       "      <td>0</td>\n",
       "      <td>0</td>\n",
       "      <td>0</td>\n",
       "      <td>0</td>\n",
       "    </tr>\n",
       "    <tr>\n",
       "      <th>1</th>\n",
       "      <td>0.173183</td>\n",
       "      <td>-0.290323</td>\n",
       "      <td>1</td>\n",
       "      <td>Category4</td>\n",
       "      <td>1</td>\n",
       "      <td>0</td>\n",
       "      <td>0</td>\n",
       "      <td>0</td>\n",
       "      <td>1</td>\n",
       "      <td>0</td>\n",
       "      <td>...</td>\n",
       "      <td>0</td>\n",
       "      <td>0</td>\n",
       "      <td>0</td>\n",
       "      <td>0</td>\n",
       "      <td>0</td>\n",
       "      <td>1</td>\n",
       "      <td>0</td>\n",
       "      <td>0</td>\n",
       "      <td>0</td>\n",
       "      <td>0</td>\n",
       "    </tr>\n",
       "    <tr>\n",
       "      <th>2</th>\n",
       "      <td>-0.421184</td>\n",
       "      <td>-0.354839</td>\n",
       "      <td>1</td>\n",
       "      <td>Category2</td>\n",
       "      <td>1</td>\n",
       "      <td>0</td>\n",
       "      <td>0</td>\n",
       "      <td>0</td>\n",
       "      <td>0</td>\n",
       "      <td>1</td>\n",
       "      <td>...</td>\n",
       "      <td>0</td>\n",
       "      <td>0</td>\n",
       "      <td>0</td>\n",
       "      <td>0</td>\n",
       "      <td>0</td>\n",
       "      <td>0</td>\n",
       "      <td>0</td>\n",
       "      <td>0</td>\n",
       "      <td>0</td>\n",
       "      <td>0</td>\n",
       "    </tr>\n",
       "    <tr>\n",
       "      <th>3</th>\n",
       "      <td>-0.888599</td>\n",
       "      <td>-0.365591</td>\n",
       "      <td>0</td>\n",
       "      <td>Category4</td>\n",
       "      <td>1</td>\n",
       "      <td>0</td>\n",
       "      <td>0</td>\n",
       "      <td>0</td>\n",
       "      <td>0</td>\n",
       "      <td>0</td>\n",
       "      <td>...</td>\n",
       "      <td>0</td>\n",
       "      <td>0</td>\n",
       "      <td>0</td>\n",
       "      <td>0</td>\n",
       "      <td>0</td>\n",
       "      <td>0</td>\n",
       "      <td>0</td>\n",
       "      <td>0</td>\n",
       "      <td>0</td>\n",
       "      <td>0</td>\n",
       "    </tr>\n",
       "    <tr>\n",
       "      <th>4</th>\n",
       "      <td>-0.300002</td>\n",
       "      <td>-0.129032</td>\n",
       "      <td>0</td>\n",
       "      <td>Category4</td>\n",
       "      <td>1</td>\n",
       "      <td>0</td>\n",
       "      <td>0</td>\n",
       "      <td>0</td>\n",
       "      <td>1</td>\n",
       "      <td>0</td>\n",
       "      <td>...</td>\n",
       "      <td>0</td>\n",
       "      <td>0</td>\n",
       "      <td>0</td>\n",
       "      <td>0</td>\n",
       "      <td>0</td>\n",
       "      <td>0</td>\n",
       "      <td>0</td>\n",
       "      <td>0</td>\n",
       "      <td>0</td>\n",
       "      <td>0</td>\n",
       "    </tr>\n",
       "  </tbody>\n",
       "</table>\n",
       "<p>5 rows × 58 columns</p>\n",
       "</div>"
      ],
      "text/plain": [
       "   mean.visitpagenum.  myaccountengagement  used_promo   category  \\\n",
       "0           -0.184591            -0.365591           0  Category2   \n",
       "1            0.173183            -0.290323           1  Category4   \n",
       "2           -0.421184            -0.354839           1  Category2   \n",
       "3           -0.888599            -0.365591           0  Category4   \n",
       "4           -0.300002            -0.129032           0  Category4   \n",
       "\n",
       "   devicetype_Mobile  devicetype_Tablet  devicetype_Unknown  \\\n",
       "0                  1                  0                   0   \n",
       "1                  1                  0                   0   \n",
       "2                  1                  0                   0   \n",
       "3                  1                  0                   0   \n",
       "4                  1                  0                   0   \n",
       "\n",
       "   firsthitpagename_checkout  firsthitpagename_index  \\\n",
       "0                          0                       1   \n",
       "1                          0                       1   \n",
       "2                          0                       0   \n",
       "3                          0                       0   \n",
       "4                          0                       1   \n",
       "\n",
       "   firsthitpagename_my.account  ...  productlist_first_Home  \\\n",
       "0                            0  ...                       0   \n",
       "1                            0  ...                       0   \n",
       "2                            1  ...                       0   \n",
       "3                            0  ...                       0   \n",
       "4                            0  ...                       0   \n",
       "\n",
       "   productlist_first_Home.Improvement  productlist_first_Jewelry...Watches  \\\n",
       "0                                   0                                    0   \n",
       "1                                   0                                    0   \n",
       "2                                   0                                    0   \n",
       "3                                   0                                    0   \n",
       "4                                   0                                    0   \n",
       "\n",
       "   productlist_first_Kitchen  productlist_first_Movies  \\\n",
       "0                          0                         0   \n",
       "1                          0                         0   \n",
       "2                          0                         0   \n",
       "3                          0                         0   \n",
       "4                          0                         0   \n",
       "\n",
       "   productlist_first_Personal.Care  productlist_first_Shoes  \\\n",
       "0                                1                        0   \n",
       "1                                1                        0   \n",
       "2                                0                        0   \n",
       "3                                0                        0   \n",
       "4                                0                        0   \n",
       "\n",
       "   productlist_first_Sports...Outdoors  productlist_first_Toys  \\\n",
       "0                                    0                       0   \n",
       "1                                    0                       0   \n",
       "2                                    0                       0   \n",
       "3                                    0                       0   \n",
       "4                                    0                       0   \n",
       "\n",
       "   productlist_first_Video.Games  \n",
       "0                              0  \n",
       "1                              0  \n",
       "2                              0  \n",
       "3                              0  \n",
       "4                              0  \n",
       "\n",
       "[5 rows x 58 columns]"
      ]
     },
     "execution_count": 19,
     "metadata": {},
     "output_type": "execute_result"
    }
   ],
   "source": [
    "full_data.head()"
   ]
  },
  {
   "cell_type": "code",
   "execution_count": 20,
   "id": "7qgs8E4uXC0S",
   "metadata": {
    "id": "7qgs8E4uXC0S"
   },
   "outputs": [],
   "source": [
    "x = full_data['category']"
   ]
  },
  {
   "cell_type": "code",
   "execution_count": 21,
   "id": "K1pSOi8AYEXA",
   "metadata": {
    "colab": {
     "base_uri": "https://localhost:8080/"
    },
    "id": "K1pSOi8AYEXA",
    "outputId": "ff46da5d-8126-4115-e3b4-0c387677273f"
   },
   "outputs": [
    {
     "name": "stderr",
     "output_type": "stream",
     "text": [
      "/tmp/ipykernel_7057/3516725726.py:7: SettingWithCopyWarning: \n",
      "A value is trying to be set on a copy of a slice from a DataFrame\n",
      "\n",
      "See the caveats in the documentation: https://pandas.pydata.org/pandas-docs/stable/user_guide/indexing.html#returning-a-view-versus-a-copy\n",
      "  x[k] = 2\n",
      "/tmp/ipykernel_7057/3516725726.py:3: SettingWithCopyWarning: \n",
      "A value is trying to be set on a copy of a slice from a DataFrame\n",
      "\n",
      "See the caveats in the documentation: https://pandas.pydata.org/pandas-docs/stable/user_guide/indexing.html#returning-a-view-versus-a-copy\n",
      "  x[k] = 4\n",
      "/tmp/ipykernel_7057/3516725726.py:5: SettingWithCopyWarning: \n",
      "A value is trying to be set on a copy of a slice from a DataFrame\n",
      "\n",
      "See the caveats in the documentation: https://pandas.pydata.org/pandas-docs/stable/user_guide/indexing.html#returning-a-view-versus-a-copy\n",
      "  x[k] = 3\n",
      "/tmp/ipykernel_7057/3516725726.py:9: SettingWithCopyWarning: \n",
      "A value is trying to be set on a copy of a slice from a DataFrame\n",
      "\n",
      "See the caveats in the documentation: https://pandas.pydata.org/pandas-docs/stable/user_guide/indexing.html#returning-a-view-versus-a-copy\n",
      "  x[k] = 1\n",
      "/tmp/ipykernel_7057/3516725726.py:11: SettingWithCopyWarning: \n",
      "A value is trying to be set on a copy of a slice from a DataFrame\n",
      "\n",
      "See the caveats in the documentation: https://pandas.pydata.org/pandas-docs/stable/user_guide/indexing.html#returning-a-view-versus-a-copy\n",
      "  x[k] = 0\n"
     ]
    }
   ],
   "source": [
    "for k in range(len(x)):\n",
    "  if x[k] == 'Category4':\n",
    "    x[k] = 4\n",
    "  elif x[k] == 'Category3':\n",
    "    x[k] = 3\n",
    "  elif x[k] == 'Category2':\n",
    "    x[k] = 2\n",
    "  elif x[k] == 'Category1':\n",
    "    x[k] = 1\n",
    "  elif x[k] == 'None':\n",
    "    x[k] = 0"
   ]
  },
  {
   "cell_type": "code",
   "execution_count": 22,
   "id": "J1C3KyigYXPx",
   "metadata": {
    "id": "J1C3KyigYXPx"
   },
   "outputs": [],
   "source": [
    "full_data['category'] = x"
   ]
  },
  {
   "cell_type": "code",
   "execution_count": 23,
   "id": "3rEKsQ9DXgLV",
   "metadata": {
    "colab": {
     "base_uri": "https://localhost:8080/",
     "height": 300
    },
    "id": "3rEKsQ9DXgLV",
    "outputId": "bfe71725-99e1-4c8e-c604-b685a7286e17"
   },
   "outputs": [
    {
     "data": {
      "text/html": [
       "<div>\n",
       "<style scoped>\n",
       "    .dataframe tbody tr th:only-of-type {\n",
       "        vertical-align: middle;\n",
       "    }\n",
       "\n",
       "    .dataframe tbody tr th {\n",
       "        vertical-align: top;\n",
       "    }\n",
       "\n",
       "    .dataframe thead th {\n",
       "        text-align: right;\n",
       "    }\n",
       "</style>\n",
       "<table border=\"1\" class=\"dataframe\">\n",
       "  <thead>\n",
       "    <tr style=\"text-align: right;\">\n",
       "      <th></th>\n",
       "      <th>mean.visitpagenum.</th>\n",
       "      <th>myaccountengagement</th>\n",
       "      <th>used_promo</th>\n",
       "      <th>category</th>\n",
       "      <th>devicetype_Mobile</th>\n",
       "      <th>devicetype_Tablet</th>\n",
       "      <th>devicetype_Unknown</th>\n",
       "      <th>firsthitpagename_checkout</th>\n",
       "      <th>firsthitpagename_index</th>\n",
       "      <th>firsthitpagename_my.account</th>\n",
       "      <th>...</th>\n",
       "      <th>productlist_first_Home</th>\n",
       "      <th>productlist_first_Home.Improvement</th>\n",
       "      <th>productlist_first_Jewelry...Watches</th>\n",
       "      <th>productlist_first_Kitchen</th>\n",
       "      <th>productlist_first_Movies</th>\n",
       "      <th>productlist_first_Personal.Care</th>\n",
       "      <th>productlist_first_Shoes</th>\n",
       "      <th>productlist_first_Sports...Outdoors</th>\n",
       "      <th>productlist_first_Toys</th>\n",
       "      <th>productlist_first_Video.Games</th>\n",
       "    </tr>\n",
       "  </thead>\n",
       "  <tbody>\n",
       "    <tr>\n",
       "      <th>0</th>\n",
       "      <td>-0.184591</td>\n",
       "      <td>-0.365591</td>\n",
       "      <td>0</td>\n",
       "      <td>2</td>\n",
       "      <td>1</td>\n",
       "      <td>0</td>\n",
       "      <td>0</td>\n",
       "      <td>0</td>\n",
       "      <td>1</td>\n",
       "      <td>0</td>\n",
       "      <td>...</td>\n",
       "      <td>0</td>\n",
       "      <td>0</td>\n",
       "      <td>0</td>\n",
       "      <td>0</td>\n",
       "      <td>0</td>\n",
       "      <td>1</td>\n",
       "      <td>0</td>\n",
       "      <td>0</td>\n",
       "      <td>0</td>\n",
       "      <td>0</td>\n",
       "    </tr>\n",
       "    <tr>\n",
       "      <th>1</th>\n",
       "      <td>0.173183</td>\n",
       "      <td>-0.290323</td>\n",
       "      <td>1</td>\n",
       "      <td>4</td>\n",
       "      <td>1</td>\n",
       "      <td>0</td>\n",
       "      <td>0</td>\n",
       "      <td>0</td>\n",
       "      <td>1</td>\n",
       "      <td>0</td>\n",
       "      <td>...</td>\n",
       "      <td>0</td>\n",
       "      <td>0</td>\n",
       "      <td>0</td>\n",
       "      <td>0</td>\n",
       "      <td>0</td>\n",
       "      <td>1</td>\n",
       "      <td>0</td>\n",
       "      <td>0</td>\n",
       "      <td>0</td>\n",
       "      <td>0</td>\n",
       "    </tr>\n",
       "    <tr>\n",
       "      <th>2</th>\n",
       "      <td>-0.421184</td>\n",
       "      <td>-0.354839</td>\n",
       "      <td>1</td>\n",
       "      <td>2</td>\n",
       "      <td>1</td>\n",
       "      <td>0</td>\n",
       "      <td>0</td>\n",
       "      <td>0</td>\n",
       "      <td>0</td>\n",
       "      <td>1</td>\n",
       "      <td>...</td>\n",
       "      <td>0</td>\n",
       "      <td>0</td>\n",
       "      <td>0</td>\n",
       "      <td>0</td>\n",
       "      <td>0</td>\n",
       "      <td>0</td>\n",
       "      <td>0</td>\n",
       "      <td>0</td>\n",
       "      <td>0</td>\n",
       "      <td>0</td>\n",
       "    </tr>\n",
       "    <tr>\n",
       "      <th>3</th>\n",
       "      <td>-0.888599</td>\n",
       "      <td>-0.365591</td>\n",
       "      <td>0</td>\n",
       "      <td>4</td>\n",
       "      <td>1</td>\n",
       "      <td>0</td>\n",
       "      <td>0</td>\n",
       "      <td>0</td>\n",
       "      <td>0</td>\n",
       "      <td>0</td>\n",
       "      <td>...</td>\n",
       "      <td>0</td>\n",
       "      <td>0</td>\n",
       "      <td>0</td>\n",
       "      <td>0</td>\n",
       "      <td>0</td>\n",
       "      <td>0</td>\n",
       "      <td>0</td>\n",
       "      <td>0</td>\n",
       "      <td>0</td>\n",
       "      <td>0</td>\n",
       "    </tr>\n",
       "    <tr>\n",
       "      <th>4</th>\n",
       "      <td>-0.300002</td>\n",
       "      <td>-0.129032</td>\n",
       "      <td>0</td>\n",
       "      <td>4</td>\n",
       "      <td>1</td>\n",
       "      <td>0</td>\n",
       "      <td>0</td>\n",
       "      <td>0</td>\n",
       "      <td>1</td>\n",
       "      <td>0</td>\n",
       "      <td>...</td>\n",
       "      <td>0</td>\n",
       "      <td>0</td>\n",
       "      <td>0</td>\n",
       "      <td>0</td>\n",
       "      <td>0</td>\n",
       "      <td>0</td>\n",
       "      <td>0</td>\n",
       "      <td>0</td>\n",
       "      <td>0</td>\n",
       "      <td>0</td>\n",
       "    </tr>\n",
       "  </tbody>\n",
       "</table>\n",
       "<p>5 rows × 58 columns</p>\n",
       "</div>"
      ],
      "text/plain": [
       "   mean.visitpagenum.  myaccountengagement  used_promo category  \\\n",
       "0           -0.184591            -0.365591           0        2   \n",
       "1            0.173183            -0.290323           1        4   \n",
       "2           -0.421184            -0.354839           1        2   \n",
       "3           -0.888599            -0.365591           0        4   \n",
       "4           -0.300002            -0.129032           0        4   \n",
       "\n",
       "   devicetype_Mobile  devicetype_Tablet  devicetype_Unknown  \\\n",
       "0                  1                  0                   0   \n",
       "1                  1                  0                   0   \n",
       "2                  1                  0                   0   \n",
       "3                  1                  0                   0   \n",
       "4                  1                  0                   0   \n",
       "\n",
       "   firsthitpagename_checkout  firsthitpagename_index  \\\n",
       "0                          0                       1   \n",
       "1                          0                       1   \n",
       "2                          0                       0   \n",
       "3                          0                       0   \n",
       "4                          0                       1   \n",
       "\n",
       "   firsthitpagename_my.account  ...  productlist_first_Home  \\\n",
       "0                            0  ...                       0   \n",
       "1                            0  ...                       0   \n",
       "2                            1  ...                       0   \n",
       "3                            0  ...                       0   \n",
       "4                            0  ...                       0   \n",
       "\n",
       "   productlist_first_Home.Improvement  productlist_first_Jewelry...Watches  \\\n",
       "0                                   0                                    0   \n",
       "1                                   0                                    0   \n",
       "2                                   0                                    0   \n",
       "3                                   0                                    0   \n",
       "4                                   0                                    0   \n",
       "\n",
       "   productlist_first_Kitchen  productlist_first_Movies  \\\n",
       "0                          0                         0   \n",
       "1                          0                         0   \n",
       "2                          0                         0   \n",
       "3                          0                         0   \n",
       "4                          0                         0   \n",
       "\n",
       "   productlist_first_Personal.Care  productlist_first_Shoes  \\\n",
       "0                                1                        0   \n",
       "1                                1                        0   \n",
       "2                                0                        0   \n",
       "3                                0                        0   \n",
       "4                                0                        0   \n",
       "\n",
       "   productlist_first_Sports...Outdoors  productlist_first_Toys  \\\n",
       "0                                    0                       0   \n",
       "1                                    0                       0   \n",
       "2                                    0                       0   \n",
       "3                                    0                       0   \n",
       "4                                    0                       0   \n",
       "\n",
       "   productlist_first_Video.Games  \n",
       "0                              0  \n",
       "1                              0  \n",
       "2                              0  \n",
       "3                              0  \n",
       "4                              0  \n",
       "\n",
       "[5 rows x 58 columns]"
      ]
     },
     "execution_count": 23,
     "metadata": {},
     "output_type": "execute_result"
    }
   ],
   "source": [
    "full_data.head()"
   ]
  },
  {
   "cell_type": "code",
   "execution_count": null,
   "id": "bebe332f",
   "metadata": {
    "id": "bebe332f",
    "scrolled": true
   },
   "outputs": [],
   "source": [
    "# # Successfully standardized the features\n",
    "# for i in range(features.shape[1]):\n",
    "#     print(np.std(features[:,i]))"
   ]
  },
  {
   "cell_type": "markdown",
   "id": "7e56ca72",
   "metadata": {
    "id": "7e56ca72"
   },
   "source": [
    "Now we define our logit function that will take in our features, and our randomly initialized $w_0$ (weight parameter) and $b_0$ (bias parameter) and calculate a logit score for each feature. As a reminder, a logit function (log-odds function) calculates the probability of a certain event occurring in the domain of [0,1]. It is the inverse of the logistic sigmoid function, which predicts probabilities in the range of [0,1]."
   ]
  },
  {
   "cell_type": "code",
   "execution_count": 24,
   "id": "b351cd35",
   "metadata": {
    "id": "b351cd35"
   },
   "outputs": [],
   "source": [
    "def logitscores(features, w_0, b_0):\n",
    "    logitvalues = np.zeros(shape=(features.shape[0],5))\n",
    "    for i in range(len(logitvalues)):\n",
    "        # For every row in the features dataframe, take the dot product with the weights and add the bias\n",
    "        # w^Tx + b => hyperplane\n",
    "        logit = np.squeeze(np.dot(w_0, features[i]) + np.transpose(b_0))\n",
    "        logitvalues[i,:] = logit\n",
    "    return logitvalues"
   ]
  },
  {
   "cell_type": "markdown",
   "id": "5b448cee",
   "metadata": {
    "id": "5b448cee"
   },
   "source": [
    "Now we define a softmax function. In multinomial logistic regression, we use a softmax function, which calculates the probabilities of K possible outcomes for a vector of K numbers. This is a generalization of the sigmoid function used in binary logistic regression. The softmax function is:\n",
    "\n",
    "$$\\sigma(\\mathbf{z})_i = \\frac{e^{z_i}}{\\sum_{j=1}^K e^{z_j}}$$"
   ]
  },
  {
   "cell_type": "code",
   "execution_count": 25,
   "id": "eb2f1200",
   "metadata": {
    "id": "eb2f1200"
   },
   "outputs": [],
   "source": [
    "def softmax(logitvalues, axis=-1):\n",
    "    K_prob = np.zeros(logitvalues.shape)\n",
    "    # We us kw to scale the softmax values to be between 0 and 1\n",
    "    kw = dict(axis=axis, keepdims = True)\n",
    "    logitvalues = logitvalues - logitvalues.max(**kw)\n",
    "    for i in range(logitvalues.shape[0]):\n",
    "        # Use the definition of the softmax function\n",
    "        a = np.exp(logitvalues[i])\n",
    "        b = a/a.sum(**kw)\n",
    "        K_prob[i] = b\n",
    "    return K_prob"
   ]
  },
  {
   "cell_type": "markdown",
   "id": "6ec138e8",
   "metadata": {
    "id": "6ec138e8"
   },
   "source": [
    "Now we define our Logisitc Regression function. We calculate the logit scores, the probability matrix (the probability of each data point (person) being classified in each class (from 1-6), and classify each data point (person) into the class with the highest probability."
   ]
  },
  {
   "cell_type": "code",
   "execution_count": 26,
   "id": "76f20351",
   "metadata": {
    "id": "76f20351"
   },
   "outputs": [],
   "source": [
    "def TrainingLogisticRegression(X_train, w_0, b_0):\n",
    "    logits = logitscores(X_train, w_0, b_0)\n",
    "    K_prob = softmax(logits)\n",
    "    # K_prob = np.nan_to_num(K_prob,10**-10)\n",
    "    predict = np.zeros(shape=X_train.shape[0])\n",
    "    for i in range(K_prob.shape[0]):\n",
    "        predict[i] = np.argmax(K_prob[i])\n",
    "    return K_prob, predict"
   ]
  },
  {
   "cell_type": "markdown",
   "id": "417fa739",
   "metadata": {
    "id": "417fa739"
   },
   "source": [
    "We initialize random weights and biases to test our functions."
   ]
  },
  {
   "cell_type": "code",
   "execution_count": 27,
   "id": "0uK8vjmdWZXI",
   "metadata": {
    "id": "0uK8vjmdWZXI"
   },
   "outputs": [],
   "source": [
    "features = full_data[features_list]\n",
    "features = features.to_numpy()\n",
    "target = full_data[['category']]\n",
    "target = target.to_numpy()\n",
    "target = np.squeeze(target)"
   ]
  },
  {
   "cell_type": "code",
   "execution_count": 28,
   "id": "hYvluJ2sYewv",
   "metadata": {
    "id": "hYvluJ2sYewv"
   },
   "outputs": [],
   "source": [
    "target = target.astype('int')"
   ]
  },
  {
   "cell_type": "code",
   "execution_count": 29,
   "id": "4VzbHXfEZSJ4",
   "metadata": {
    "colab": {
     "base_uri": "https://localhost:8080/"
    },
    "id": "4VzbHXfEZSJ4",
    "outputId": "d4af4c20-b0fa-44ed-cf0f-282a5f50d8ab"
   },
   "outputs": [
    {
     "data": {
      "text/plain": [
       "(7500, 57)"
      ]
     },
     "execution_count": 29,
     "metadata": {},
     "output_type": "execute_result"
    }
   ],
   "source": [
    "features.shape"
   ]
  },
  {
   "cell_type": "code",
   "execution_count": 30,
   "id": "X1nFD0NrWfi_",
   "metadata": {
    "colab": {
     "base_uri": "https://localhost:8080/"
    },
    "id": "X1nFD0NrWfi_",
    "outputId": "2813ccdc-3ea6-48f5-e461-d0ef8e994726"
   },
   "outputs": [
    {
     "data": {
      "text/plain": [
       "7500"
      ]
     },
     "execution_count": 30,
     "metadata": {},
     "output_type": "execute_result"
    }
   ],
   "source": [
    "len(target)"
   ]
  },
  {
   "cell_type": "code",
   "execution_count": 31,
   "id": "6a770982",
   "metadata": {
    "id": "6a770982"
   },
   "outputs": [],
   "source": [
    "w_0 = np.random.randn(5,57)\n",
    "b_0 = np.random.randn(5,1)"
   ]
  },
  {
   "cell_type": "code",
   "execution_count": 32,
   "id": "d3140606",
   "metadata": {
    "colab": {
     "base_uri": "https://localhost:8080/"
    },
    "id": "d3140606",
    "outputId": "fbb14fda-397a-4076-f7f8-4b5c2b0a2f02",
    "scrolled": false
   },
   "outputs": [
    {
     "name": "stdout",
     "output_type": "stream",
     "text": [
      "(7500, 5)\n",
      "(7500,)\n"
     ]
    }
   ],
   "source": [
    "K_prob, predict = TrainingLogisticRegression(features, w_0, b_0)\n",
    "print(K_prob.shape)\n",
    "print(predict.shape)"
   ]
  },
  {
   "cell_type": "code",
   "execution_count": 33,
   "id": "puAj3MGSUR3c",
   "metadata": {
    "colab": {
     "base_uri": "https://localhost:8080/"
    },
    "id": "puAj3MGSUR3c",
    "outputId": "2401bb9d-b24b-469d-d584-4202db7a48d6"
   },
   "outputs": [
    {
     "data": {
      "text/plain": [
       "array([0.24711677, 0.24051416, 0.05002349, 0.00523006, 0.45711553])"
      ]
     },
     "execution_count": 33,
     "metadata": {},
     "output_type": "execute_result"
    }
   ],
   "source": [
    "K_prob[0]"
   ]
  },
  {
   "cell_type": "code",
   "execution_count": 34,
   "id": "_4CJ6_eEa4JK",
   "metadata": {
    "colab": {
     "base_uri": "https://localhost:8080/"
    },
    "id": "_4CJ6_eEa4JK",
    "outputId": "005c59ad-12f0-4a63-8d89-2ff5871236b7"
   },
   "outputs": [
    {
     "data": {
      "text/plain": [
       "array([4., 2., 0., ..., 4., 4., 1.])"
      ]
     },
     "execution_count": 34,
     "metadata": {},
     "output_type": "execute_result"
    }
   ],
   "source": [
    "predict"
   ]
  },
  {
   "cell_type": "code",
   "execution_count": 35,
   "id": "a81744db",
   "metadata": {
    "id": "a81744db"
   },
   "outputs": [],
   "source": [
    "def model_accuracy(predict, target):\n",
    "    return 100.0 * np.sum(predict == target)/len(target)"
   ]
  },
  {
   "cell_type": "code",
   "execution_count": 36,
   "id": "a82aa7f0",
   "metadata": {
    "colab": {
     "base_uri": "https://localhost:8080/"
    },
    "id": "a82aa7f0",
    "outputId": "e3cf5ec1-346b-4696-bfd8-f9f14876b655",
    "scrolled": true
   },
   "outputs": [
    {
     "data": {
      "text/plain": [
       "14.76"
      ]
     },
     "execution_count": 36,
     "metadata": {},
     "output_type": "execute_result"
    }
   ],
   "source": [
    "model_accuracy(predict, target)"
   ]
  },
  {
   "cell_type": "markdown",
   "id": "3c6e3a8f",
   "metadata": {
    "id": "3c6e3a8f"
   },
   "source": [
    "The model accuracy is pretty low since this it is generic, so we will improve our model by optimizing hyperparameters."
   ]
  },
  {
   "cell_type": "markdown",
   "id": "fdd22d9e",
   "metadata": {
    "id": "fdd22d9e"
   },
   "source": [
    "### Optimizing our model"
   ]
  },
  {
   "cell_type": "markdown",
   "id": "60684a29",
   "metadata": {
    "id": "60684a29"
   },
   "source": [
    "We split our data into training and testing data."
   ]
  },
  {
   "cell_type": "code",
   "execution_count": 37,
   "id": "ec6b6a53",
   "metadata": {
    "id": "ec6b6a53"
   },
   "outputs": [],
   "source": [
    "# running train_test_split for our dataset\n",
    "train_features, test_features, train_target, test_target = train_test_split(features,target,test_size = 0.3)"
   ]
  },
  {
   "cell_type": "code",
   "execution_count": 38,
   "id": "743e9779",
   "metadata": {
    "colab": {
     "base_uri": "https://localhost:8080/"
    },
    "id": "743e9779",
    "outputId": "e6568919-21b0-4352-c2ef-e01aa928b8a1",
    "scrolled": true
   },
   "outputs": [
    {
     "data": {
      "text/plain": [
       "((5250, 57), (2250, 57), (5250,), (2250,))"
      ]
     },
     "execution_count": 38,
     "metadata": {},
     "output_type": "execute_result"
    }
   ],
   "source": [
    "train_features.shape, test_features.shape, train_target.shape, test_target.shape"
   ]
  },
  {
   "cell_type": "markdown",
   "id": "cdb05a65",
   "metadata": {
    "id": "cdb05a65"
   },
   "source": [
    "We scale the data to ensure a standard deviation of 1"
   ]
  },
  {
   "cell_type": "code",
   "execution_count": null,
   "id": "63d2d769",
   "metadata": {
    "id": "63d2d769"
   },
   "outputs": [],
   "source": [
    "# scaler = StandardScaler().fit(train_features)\n",
    "# train_features = scaler.transform(train_features)\n",
    "# scaler = StandardScaler().fit(test_features)\n",
    "# test_features = scaler.transform(test_features)"
   ]
  },
  {
   "cell_type": "code",
   "execution_count": null,
   "id": "7929fc2d",
   "metadata": {
    "id": "7929fc2d",
    "scrolled": true
   },
   "outputs": [],
   "source": [
    "# for i in range(train_features.shape[1]):\n",
    "#     print(np.std(train_features[:,i]))\n",
    "# for i in range(test_features.shape[1]):\n",
    "#     print(np.std(test_features[:,i]))"
   ]
  },
  {
   "cell_type": "markdown",
   "id": "e0455469",
   "metadata": {
    "id": "e0455469"
   },
   "source": [
    "In multinomial logistic regression, maximizing the likelihood of the parameters is equivalent to minimizing the cross-entropy loss. We will define our cross-entropy loss function that we will later minimize using an algorithm. \n",
    "\n",
    "As a reminder, cross-entropy loss is defined as:\n",
    "\n",
    "$$J(\\theta) = -[\\sum_{i=1}^m y^{(i)} \\log h_{\\theta} (x^{(i)}) + (1-y^{(i)} \\log (1- h_{\\theta}(x^{(i)}))]$$\n",
    "\n",
    "where $(x^{(i)}, y^{(i)})$ correspond to a data point from our training set and $h_{\\theta}$ is the probability of our parameter set being equal to $\\theta$."
   ]
  },
  {
   "cell_type": "code",
   "execution_count": 39,
   "id": "91969d1b",
   "metadata": {
    "id": "91969d1b"
   },
   "outputs": [],
   "source": [
    "def CELoss(K_prob, target):\n",
    "    target = target-1\n",
    "    total_loss = 0\n",
    "    for i in target:\n",
    "        total_loss += -np.log(K_prob[i])\n",
    "    avg_loss = total_loss/K_prob.shape[0]\n",
    "    return np.average(avg_loss)"
   ]
  },
  {
   "cell_type": "markdown",
   "id": "e25c7d1d",
   "metadata": {
    "id": "e25c7d1d"
   },
   "source": [
    "We use Stochastic Gradient Descent to minimize our cross-entropy loss. We calculate the probability matrix (the probability of each data point (person) being classified in each class (from 1-6)) and the prediction vector (the predicted class of each data point (person) based on the highest probability). We then find the gradient of our $w_0$ weight vector and $b_0$ bias vector and implement the algorithm:\n",
    "\n",
    "$$w_{k+1} = w_k - (\\alpha * \\nabla(f(w_k)))$$\n",
    "$$b_{k+1} = b_k - (\\alpha * \\nabla(f(b_k)))$$\n",
    "\n",
    "for $i = 1,...,\\text{K_max}$ where $\\text{K_max}$ is the maximum number of iterations."
   ]
  },
  {
   "cell_type": "code",
   "execution_count": 40,
   "id": "f6890d36",
   "metadata": {
    "id": "f6890d36"
   },
   "outputs": [],
   "source": [
    "def SGD(alpha, K_max, target, features, w_0, b_0):\n",
    "\n",
    "    loss_function = np.zeros(features.shape[0])\n",
    " \n",
    "    for i in range(K_max):\n",
    "        prob,predict = TrainingLogisticRegression(features, w_0, b_0)\n",
    "        loss_function[i] = CELoss(prob, target)\n",
    "        prob[np.arange(features.shape[0]),target] -= 1\n",
    "        \n",
    "        grad_weight = np.dot(prob.T,features)\n",
    "        grad_biases = np.matrix(np.sum(prob, axis = 0)).T\n",
    "        \n",
    "        w_0 -= (alpha * grad_weight)\n",
    "        b_0 -= (alpha * grad_biases)\n",
    "        \n",
    "    return w_0,b_0,loss_function"
   ]
  },
  {
   "cell_type": "markdown",
   "id": "e74275d0",
   "metadata": {
    "id": "e74275d0"
   },
   "source": [
    "We initialize random $w_0$ and $b_0$ and run our SGD algorithm."
   ]
  },
  {
   "cell_type": "code",
   "execution_count": 41,
   "id": "e15430ee",
   "metadata": {
    "id": "e15430ee"
   },
   "outputs": [],
   "source": [
    "w_0 = np.random.randn(5, 57)\n",
    "b_0 = np.random.randn(5,1)"
   ]
  },
  {
   "cell_type": "code",
   "execution_count": 42,
   "id": "0e4a5ccf",
   "metadata": {
    "colab": {
     "base_uri": "https://localhost:8080/"
    },
    "id": "0e4a5ccf",
    "outputId": "a070404c-3403-41fa-a45c-07d353328006",
    "scrolled": true
   },
   "outputs": [
    {
     "name": "stderr",
     "output_type": "stream",
     "text": [
      "/tmp/ipykernel_7057/3864495697.py:5: RuntimeWarning: divide by zero encountered in log\n",
      "  total_loss += -np.log(K_prob[i])\n"
     ]
    }
   ],
   "source": [
    "w_star, b_star, loss_function = SGD(0.1, 100, train_target-1, train_features, w_0, b_0)"
   ]
  },
  {
   "cell_type": "code",
   "execution_count": 43,
   "id": "8fa53c9f",
   "metadata": {
    "id": "8fa53c9f",
    "scrolled": true
   },
   "outputs": [],
   "source": [
    "w_star = np.nan_to_num(w_star,0)"
   ]
  },
  {
   "cell_type": "code",
   "execution_count": 44,
   "id": "93fb3256",
   "metadata": {
    "colab": {
     "base_uri": "https://localhost:8080/"
    },
    "id": "93fb3256",
    "outputId": "fec8382e-cb48-4984-8994-1dff57b0ad85",
    "scrolled": true
   },
   "outputs": [
    {
     "data": {
      "text/plain": [
       "48.355555555555554"
      ]
     },
     "execution_count": 44,
     "metadata": {},
     "output_type": "execute_result"
    }
   ],
   "source": [
    "test_prob, test_pred = TrainingLogisticRegression(test_features, w_star, b_star)\n",
    "test_pred = test_pred + 1\n",
    "\n",
    "model_accuracy(test_pred, test_target)"
   ]
  },
  {
   "cell_type": "markdown",
   "id": "f78fce48",
   "metadata": {
    "id": "f78fce48"
   },
   "source": [
    "---------"
   ]
  },
  {
   "cell_type": "markdown",
   "id": "7fc66e81",
   "metadata": {
    "id": "7fc66e81"
   },
   "source": [
    "We can compare the accuracy of our model with the built-in LogisticRegression function in sklearn."
   ]
  },
  {
   "cell_type": "code",
   "execution_count": 45,
   "id": "817e9c84",
   "metadata": {
    "id": "817e9c84"
   },
   "outputs": [],
   "source": [
    "train_features = train_features.astype('float')\n",
    "test_features = test_features.astype('float')"
   ]
  },
  {
   "cell_type": "code",
   "execution_count": 46,
   "id": "884efceb",
   "metadata": {
    "id": "884efceb"
   },
   "outputs": [],
   "source": [
    "train_features = np.nan_to_num(train_features,0)\n",
    "test_features = np.nan_to_num(test_features,0)"
   ]
  },
  {
   "cell_type": "code",
   "execution_count": 47,
   "id": "EJoglAKgexI3",
   "metadata": {
    "colab": {
     "base_uri": "https://localhost:8080/"
    },
    "id": "EJoglAKgexI3",
    "outputId": "9cb7b889-b687-43d6-c90d-f80a5f267836"
   },
   "outputs": [
    {
     "data": {
      "text/plain": [
       "array([[-0.41541341, -0.20430108,  0.        , ...,  0.        ,\n",
       "         0.        ,  0.        ],\n",
       "       [ 0.507875  , -0.31182796,  1.        , ...,  0.        ,\n",
       "         1.        ,  0.        ],\n",
       "       [ 1.25804683, -0.25806452,  1.        , ...,  0.        ,\n",
       "         0.        ,  0.        ],\n",
       "       ...,\n",
       "       [ 0.60020384, -0.30107527,  1.        , ...,  0.        ,\n",
       "         0.        ,  0.        ],\n",
       "       [-0.27692014, -0.33333333,  1.        , ...,  0.        ,\n",
       "         0.        ,  1.        ],\n",
       "       [-0.75010545, -0.33333333,  0.        , ...,  0.        ,\n",
       "         0.        ,  0.        ]])"
      ]
     },
     "execution_count": 47,
     "metadata": {},
     "output_type": "execute_result"
    }
   ],
   "source": [
    "test_features"
   ]
  },
  {
   "cell_type": "markdown",
   "id": "69fcbfd7",
   "metadata": {
    "id": "69fcbfd7"
   },
   "source": [
    "We use the LogisticRegression function in sklearn, with argument multiclass = 'multinomial'."
   ]
  },
  {
   "cell_type": "code",
   "execution_count": 48,
   "id": "c7047869",
   "metadata": {
    "colab": {
     "base_uri": "https://localhost:8080/"
    },
    "id": "c7047869",
    "outputId": "b06b01e7-a36a-4a71-9905-e5c8e984af9e",
    "scrolled": true
   },
   "outputs": [
    {
     "name": "stdout",
     "output_type": "stream",
     "text": [
      "0.4831111111111111\n"
     ]
    }
   ],
   "source": [
    "model = LogisticRegression(solver = 'newton-cg', multi_class = 'multinomial')\n",
    "model.fit(train_features, train_target)\n",
    "class_pred = model.predict(train_features)\n",
    "score = model.score(test_features, np.squeeze(test_target))\n",
    "print(score)"
   ]
  },
  {
   "cell_type": "markdown",
   "id": "de2151cc",
   "metadata": {
    "id": "de2151cc"
   },
   "source": [
    "The sklearn accuracy score is very similar to our accuracy score."
   ]
  },
  {
   "cell_type": "markdown",
   "id": "60132b79",
   "metadata": {
    "id": "60132b79"
   },
   "source": [
    "We also do 5-fold cross validation and take the average to find the average model accuracy of our five repetitions."
   ]
  },
  {
   "cell_type": "code",
   "execution_count": 49,
   "id": "bacf28fc",
   "metadata": {
    "colab": {
     "base_uri": "https://localhost:8080/"
    },
    "id": "bacf28fc",
    "outputId": "06b71f71-81e1-45ff-977c-7b812a38c24c"
   },
   "outputs": [
    {
     "name": "stderr",
     "output_type": "stream",
     "text": [
      "/opt/anaconda3/lib/python3.9/site-packages/sklearn/model_selection/_split.py:676: UserWarning: The least populated class in y has only 2 members, which is less than n_splits=5.\n",
      "  warnings.warn(\n"
     ]
    },
    {
     "data": {
      "text/plain": [
       "array([0.48190476, 0.4847619 , 0.48      , 0.48285714, 0.48190476])"
      ]
     },
     "execution_count": 49,
     "metadata": {},
     "output_type": "execute_result"
    }
   ],
   "source": [
    "cross_val = LogisticRegression(solver='newton-cg', multi_class='multinomial')\n",
    "scores = cross_val_score(cross_val, train_features, train_target, cv=5)\n",
    "scores"
   ]
  },
  {
   "cell_type": "code",
   "execution_count": 50,
   "id": "8ee7b912",
   "metadata": {
    "colab": {
     "base_uri": "https://localhost:8080/"
    },
    "id": "8ee7b912",
    "outputId": "b2ac47d1-ff5e-4b8a-e1a6-86692888e1af",
    "scrolled": false
   },
   "outputs": [
    {
     "name": "stdout",
     "output_type": "stream",
     "text": [
      "Accuracy: 0.48 (+/- 0.00)\n"
     ]
    }
   ],
   "source": [
    "print(\"Accuracy: %0.2f (+/- %0.2f)\" % (scores.mean(), scores.std() * 2))"
   ]
  },
  {
   "cell_type": "markdown",
   "id": "416d6b58",
   "metadata": {
    "id": "416d6b58"
   },
   "source": [
    "The accuracy is similar to our model."
   ]
  }
 ],
 "metadata": {
  "accelerator": "GPU",
  "colab": {
   "machine_shape": "hm",
   "provenance": []
  },
  "gpuClass": "premium",
  "kernelspec": {
   "display_name": "Python 3 (ipykernel)",
   "language": "python",
   "name": "python3"
  },
  "language_info": {
   "codemirror_mode": {
    "name": "ipython",
    "version": 3
   },
   "file_extension": ".py",
   "mimetype": "text/x-python",
   "name": "python",
   "nbconvert_exporter": "python",
   "pygments_lexer": "ipython3",
   "version": "3.9.13"
  }
 },
 "nbformat": 4,
 "nbformat_minor": 5
}
