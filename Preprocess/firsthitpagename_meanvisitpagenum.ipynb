{
 "cells": [
  {
   "cell_type": "code",
   "execution_count": 1,
   "id": "ad498e64",
   "metadata": {},
   "outputs": [],
   "source": [
    "import tarfile\n",
    "\n",
    "import tarfile\n",
    "import pandas as pd\n",
    "import pyarrow.parquet as pq\n",
    "import numpy as np\n",
    "pd.set_option('display.max_columns', None)\n",
    "\n",
    "import plotly.graph_objects as go\n",
    "from sklearn.decomposition import NMF\n",
    "\n",
    "import re\n",
    "import math\n",
    "\n",
    "from sklearn.decomposition import NMF"
   ]
  },
  {
   "cell_type": "markdown",
   "id": "e3ff2204",
   "metadata": {},
   "source": [
    "## Load Day 0 data "
   ]
  },
  {
   "cell_type": "code",
   "execution_count": 2,
   "id": "562b4b45",
   "metadata": {},
   "outputs": [],
   "source": [
    "dataset10 = pq.ParquetDataset(\"bigd/M148/hitdata7days/visitday=10/\")"
   ]
  },
  {
   "cell_type": "code",
   "execution_count": 3,
   "id": "dca17fc9",
   "metadata": {},
   "outputs": [],
   "source": [
    "columns = [\"cookieid\",\"firsthitpagename\",\"visitpagenum\",\"ordernumber\"]\n",
    "data10 = dataset10.read(columns=columns).combine_chunks()"
   ]
  },
  {
   "cell_type": "code",
   "execution_count": 4,
   "id": "a6f74589",
   "metadata": {},
   "outputs": [],
   "source": [
    "data_10 = dataset10.read().combine_chunks()"
   ]
  },
  {
   "cell_type": "code",
   "execution_count": 5,
   "id": "1b5a1992",
   "metadata": {},
   "outputs": [],
   "source": [
    "data10_pd = data10.to_pandas()"
   ]
  },
  {
   "cell_type": "code",
   "execution_count": 6,
   "id": "2b9ea434",
   "metadata": {},
   "outputs": [
    {
     "data": {
      "text/html": [
       "<div>\n",
       "<style scoped>\n",
       "    .dataframe tbody tr th:only-of-type {\n",
       "        vertical-align: middle;\n",
       "    }\n",
       "\n",
       "    .dataframe tbody tr th {\n",
       "        vertical-align: top;\n",
       "    }\n",
       "\n",
       "    .dataframe thead th {\n",
       "        text-align: right;\n",
       "    }\n",
       "</style>\n",
       "<table border=\"1\" class=\"dataframe\">\n",
       "  <thead>\n",
       "    <tr style=\"text-align: right;\">\n",
       "      <th></th>\n",
       "      <th>cookieid</th>\n",
       "      <th>firsthitpagename</th>\n",
       "      <th>visitpagenum</th>\n",
       "      <th>ordernumber</th>\n",
       "    </tr>\n",
       "  </thead>\n",
       "  <tbody>\n",
       "    <tr>\n",
       "      <th>0</th>\n",
       "      <td>18976392225474675141320040725069689144</td>\n",
       "      <td>my account:sign in</td>\n",
       "      <td>168</td>\n",
       "      <td>None</td>\n",
       "    </tr>\n",
       "    <tr>\n",
       "      <th>1</th>\n",
       "      <td>22458651700155932098567309246136578371</td>\n",
       "      <td>search:results</td>\n",
       "      <td>2</td>\n",
       "      <td>None</td>\n",
       "    </tr>\n",
       "    <tr>\n",
       "      <th>2</th>\n",
       "      <td>81302138040689021608603450882312197152</td>\n",
       "      <td>None</td>\n",
       "      <td>143</td>\n",
       "      <td>None</td>\n",
       "    </tr>\n",
       "    <tr>\n",
       "      <th>3</th>\n",
       "      <td>59091259204920318791245315839306482106</td>\n",
       "      <td>index</td>\n",
       "      <td>55</td>\n",
       "      <td>None</td>\n",
       "    </tr>\n",
       "    <tr>\n",
       "      <th>4</th>\n",
       "      <td>53802118384124243215211591740223846690</td>\n",
       "      <td>index</td>\n",
       "      <td>34</td>\n",
       "      <td>None</td>\n",
       "    </tr>\n",
       "    <tr>\n",
       "      <th>5</th>\n",
       "      <td>78927590306810709598935516385592759617</td>\n",
       "      <td>my account:sign in</td>\n",
       "      <td>196</td>\n",
       "      <td>None</td>\n",
       "    </tr>\n",
       "    <tr>\n",
       "      <th>6</th>\n",
       "      <td>79419827933071974896753648306007745918</td>\n",
       "      <td>index</td>\n",
       "      <td>43</td>\n",
       "      <td>None</td>\n",
       "    </tr>\n",
       "    <tr>\n",
       "      <th>7</th>\n",
       "      <td>47316709324700216004627670073521110994</td>\n",
       "      <td>index</td>\n",
       "      <td>67</td>\n",
       "      <td>None</td>\n",
       "    </tr>\n",
       "    <tr>\n",
       "      <th>8</th>\n",
       "      <td>58602386511365160255081036280574911942</td>\n",
       "      <td>pdp:Nostalgia 12-Cup Hot Air Popcorn Maker - Red</td>\n",
       "      <td>83</td>\n",
       "      <td>None</td>\n",
       "    </tr>\n",
       "    <tr>\n",
       "      <th>9</th>\n",
       "      <td>73007192487732837592201854421032220814</td>\n",
       "      <td>index</td>\n",
       "      <td>15</td>\n",
       "      <td>None</td>\n",
       "    </tr>\n",
       "  </tbody>\n",
       "</table>\n",
       "</div>"
      ],
      "text/plain": [
       "                                 cookieid  \\\n",
       "0  18976392225474675141320040725069689144   \n",
       "1  22458651700155932098567309246136578371   \n",
       "2  81302138040689021608603450882312197152   \n",
       "3  59091259204920318791245315839306482106   \n",
       "4  53802118384124243215211591740223846690   \n",
       "5  78927590306810709598935516385592759617   \n",
       "6  79419827933071974896753648306007745918   \n",
       "7  47316709324700216004627670073521110994   \n",
       "8  58602386511365160255081036280574911942   \n",
       "9  73007192487732837592201854421032220814   \n",
       "\n",
       "                                   firsthitpagename visitpagenum ordernumber  \n",
       "0                                my account:sign in          168        None  \n",
       "1                                    search:results            2        None  \n",
       "2                                              None          143        None  \n",
       "3                                             index           55        None  \n",
       "4                                             index           34        None  \n",
       "5                                my account:sign in          196        None  \n",
       "6                                             index           43        None  \n",
       "7                                             index           67        None  \n",
       "8  pdp:Nostalgia 12-Cup Hot Air Popcorn Maker - Red           83        None  \n",
       "9                                             index           15        None  "
      ]
     },
     "execution_count": 6,
     "metadata": {},
     "output_type": "execute_result"
    }
   ],
   "source": [
    "data10_pd.head(10)"
   ]
  },
  {
   "cell_type": "code",
   "execution_count": 7,
   "id": "560137f3",
   "metadata": {},
   "outputs": [
    {
     "data": {
      "text/plain": [
       "(6458609, 4)"
      ]
     },
     "execution_count": 7,
     "metadata": {},
     "output_type": "execute_result"
    }
   ],
   "source": [
    "data10_pd.shape"
   ]
  },
  {
   "cell_type": "markdown",
   "id": "3de192f9",
   "metadata": {},
   "source": [
    "## Load data for all 7 days "
   ]
  },
  {
   "cell_type": "code",
   "execution_count": 18,
   "id": "766a4e2a",
   "metadata": {},
   "outputs": [],
   "source": [
    "dataset_all = pq.ParquetDataset(\"bigd/M148/hitdata7days\")"
   ]
  },
  {
   "cell_type": "code",
   "execution_count": 19,
   "id": "56b133c2",
   "metadata": {},
   "outputs": [],
   "source": [
    "columns = [\"cookieid\",\"firsthitpagename\",\"visitpagenum\",\"ordernumber\"]\n",
    "data_all = dataset_all.read(columns=columns).combine_chunks()"
   ]
  },
  {
   "cell_type": "code",
   "execution_count": 20,
   "id": "e7979b67",
   "metadata": {},
   "outputs": [],
   "source": [
    "data_all_pd = data_all.to_pandas()"
   ]
  },
  {
   "cell_type": "code",
   "execution_count": 21,
   "id": "3db02603",
   "metadata": {},
   "outputs": [
    {
     "data": {
      "text/html": [
       "<div>\n",
       "<style scoped>\n",
       "    .dataframe tbody tr th:only-of-type {\n",
       "        vertical-align: middle;\n",
       "    }\n",
       "\n",
       "    .dataframe tbody tr th {\n",
       "        vertical-align: top;\n",
       "    }\n",
       "\n",
       "    .dataframe thead th {\n",
       "        text-align: right;\n",
       "    }\n",
       "</style>\n",
       "<table border=\"1\" class=\"dataframe\">\n",
       "  <thead>\n",
       "    <tr style=\"text-align: right;\">\n",
       "      <th></th>\n",
       "      <th>cookieid</th>\n",
       "      <th>firsthitpagename</th>\n",
       "      <th>visitpagenum</th>\n",
       "      <th>ordernumber</th>\n",
       "      <th>visitday</th>\n",
       "    </tr>\n",
       "  </thead>\n",
       "  <tbody>\n",
       "    <tr>\n",
       "      <th>42730139</th>\n",
       "      <td>66766296197672086254571863561089794102</td>\n",
       "      <td>search:results</td>\n",
       "      <td>27</td>\n",
       "      <td>None</td>\n",
       "      <td>16</td>\n",
       "    </tr>\n",
       "    <tr>\n",
       "      <th>42730140</th>\n",
       "      <td>42336954984504414921774913107250050258</td>\n",
       "      <td>None</td>\n",
       "      <td>24</td>\n",
       "      <td>None</td>\n",
       "      <td>16</td>\n",
       "    </tr>\n",
       "    <tr>\n",
       "      <th>42730141</th>\n",
       "      <td>17693983337648543312395385556212515037</td>\n",
       "      <td>index</td>\n",
       "      <td>38</td>\n",
       "      <td>None</td>\n",
       "      <td>16</td>\n",
       "    </tr>\n",
       "    <tr>\n",
       "      <th>42730142</th>\n",
       "      <td>85153173066658247329001202340424923203</td>\n",
       "      <td>index</td>\n",
       "      <td>10</td>\n",
       "      <td>None</td>\n",
       "      <td>16</td>\n",
       "    </tr>\n",
       "    <tr>\n",
       "      <th>42730143</th>\n",
       "      <td>81128382723058624884928245544453957460</td>\n",
       "      <td>None</td>\n",
       "      <td>202</td>\n",
       "      <td>None</td>\n",
       "      <td>16</td>\n",
       "    </tr>\n",
       "    <tr>\n",
       "      <th>42730144</th>\n",
       "      <td>83103452230070488727514707142695403239</td>\n",
       "      <td>None</td>\n",
       "      <td>128</td>\n",
       "      <td>None</td>\n",
       "      <td>16</td>\n",
       "    </tr>\n",
       "    <tr>\n",
       "      <th>42730145</th>\n",
       "      <td>78978313603212467237685845152760013485</td>\n",
       "      <td>my account:sign in</td>\n",
       "      <td>15</td>\n",
       "      <td>None</td>\n",
       "      <td>16</td>\n",
       "    </tr>\n",
       "    <tr>\n",
       "      <th>42730146</th>\n",
       "      <td>38462509364520503943541087382094206104</td>\n",
       "      <td>my account:sign in</td>\n",
       "      <td>86</td>\n",
       "      <td>None</td>\n",
       "      <td>16</td>\n",
       "    </tr>\n",
       "    <tr>\n",
       "      <th>42730147</th>\n",
       "      <td>53686880511144008613364683438838426866</td>\n",
       "      <td>None</td>\n",
       "      <td>129</td>\n",
       "      <td>None</td>\n",
       "      <td>16</td>\n",
       "    </tr>\n",
       "    <tr>\n",
       "      <th>42730148</th>\n",
       "      <td>15214929409965487617343822276678408192</td>\n",
       "      <td>None</td>\n",
       "      <td>5</td>\n",
       "      <td>None</td>\n",
       "      <td>16</td>\n",
       "    </tr>\n",
       "  </tbody>\n",
       "</table>\n",
       "</div>"
      ],
      "text/plain": [
       "                                        cookieid    firsthitpagename  \\\n",
       "42730139  66766296197672086254571863561089794102      search:results   \n",
       "42730140  42336954984504414921774913107250050258                None   \n",
       "42730141  17693983337648543312395385556212515037               index   \n",
       "42730142  85153173066658247329001202340424923203               index   \n",
       "42730143  81128382723058624884928245544453957460                None   \n",
       "42730144  83103452230070488727514707142695403239                None   \n",
       "42730145  78978313603212467237685845152760013485  my account:sign in   \n",
       "42730146  38462509364520503943541087382094206104  my account:sign in   \n",
       "42730147  53686880511144008613364683438838426866                None   \n",
       "42730148  15214929409965487617343822276678408192                None   \n",
       "\n",
       "         visitpagenum ordernumber visitday  \n",
       "42730139           27        None       16  \n",
       "42730140           24        None       16  \n",
       "42730141           38        None       16  \n",
       "42730142           10        None       16  \n",
       "42730143          202        None       16  \n",
       "42730144          128        None       16  \n",
       "42730145           15        None       16  \n",
       "42730146           86        None       16  \n",
       "42730147          129        None       16  \n",
       "42730148            5        None       16  "
      ]
     },
     "execution_count": 21,
     "metadata": {},
     "output_type": "execute_result"
    }
   ],
   "source": [
    "data_all_pd.tail(10)"
   ]
  },
  {
   "cell_type": "code",
   "execution_count": 22,
   "id": "3e57c526",
   "metadata": {},
   "outputs": [
    {
     "data": {
      "text/plain": [
       "(42730149, 5)"
      ]
     },
     "execution_count": 22,
     "metadata": {},
     "output_type": "execute_result"
    }
   ],
   "source": [
    "data_all_pd.shape"
   ]
  },
  {
   "cell_type": "markdown",
   "id": "1c5f22b1",
   "metadata": {},
   "source": [
    "## Subset data to get only users who ordered something"
   ]
  },
  {
   "cell_type": "code",
   "execution_count": 23,
   "id": "3111c4c6",
   "metadata": {},
   "outputs": [],
   "source": [
    "df_orders = data_all_pd[data_all_pd.ordernumber.notnull()]"
   ]
  },
  {
   "cell_type": "code",
   "execution_count": 24,
   "id": "09e65c92",
   "metadata": {},
   "outputs": [],
   "source": [
    "## Fix the index\n",
    "df_orders_index = df_orders.reset_index()\n",
    "df_orders_index = df_orders_index.drop('index', axis=1)"
   ]
  },
  {
   "cell_type": "code",
   "execution_count": 25,
   "id": "35d257b3",
   "metadata": {},
   "outputs": [],
   "source": [
    "cookieid_unique = df_orders_index[\"cookieid\"].unique()"
   ]
  },
  {
   "cell_type": "code",
   "execution_count": 26,
   "id": "cbf99fa2",
   "metadata": {},
   "outputs": [],
   "source": [
    "df_features = pd.DataFrame(0, index =range(0,len(cookieid_unique)), \n",
    "                               columns=[\"cookieid\", \"firsthitpagename\", \"mean(visitpagenum)\"])"
   ]
  },
  {
   "cell_type": "code",
   "execution_count": 27,
   "id": "fdadfb07",
   "metadata": {},
   "outputs": [],
   "source": [
    "for i in range(0,len(cookieid_unique)):\n",
    "    df_features.loc[i,\"cookieid\"] = cookieid_unique[i]\n",
    "    \n",
    "    df_features.loc[i,\"mean(visitpagenum)\"] = np.mean(df_orders[df_orders[\"cookieid\"] == cookieid_unique[i]].visitpagenum)\n",
    "    \n",
    "    temp_string = df_orders_index[df_orders_index[\"cookieid\"] == cookieid_unique[i]].firsthitpagename.head(1).item()\n",
    "    \n",
    "    if temp_string is None: \n",
    "        df_features.loc[i,\"firsthitpagename\"] = None \n",
    "    \n",
    "    elif bool(re.search(\"index\", temp_string)):\n",
    "        df_features.loc[i,\"firsthitpagename\"] = \"index\"\n",
    "        \n",
    "    elif bool(re.search(\"my account\", temp_string)):\n",
    "        df_features.loc[i,\"firsthitpagename\"] = \"my account\"\n",
    "        \n",
    "    elif bool(re.search(\"pdp\", temp_string)):\n",
    "        df_features.loc[i,\"firsthitpagename\"] = \"pdp\"\n",
    "    \n",
    "    elif bool(re.search(\"cart\", temp_string)):\n",
    "        df_features.loc[i,\"firsthitpagename\"] = \"cart\"\n",
    "    \n",
    "    elif bool(re.search(\"search\", temp_string)):\n",
    "        df_features.loc[i,\"firsthitpagename\"] = \"search\"\n",
    "        \n",
    "    elif bool(re.search(\"checkout\", temp_string)):\n",
    "        df_features.loc[i,\"firsthitpagename\"] = \"checkout\"\n",
    "        \n",
    "    else:\n",
    "        df_features.loc[i,\"firsthitpagename\"] = \"other\"  \n",
    "    "
   ]
  },
  {
   "cell_type": "code",
   "execution_count": 28,
   "id": "9010f62e",
   "metadata": {},
   "outputs": [
    {
     "data": {
      "text/plain": [
       "(103138, 3)"
      ]
     },
     "execution_count": 28,
     "metadata": {},
     "output_type": "execute_result"
    }
   ],
   "source": [
    "df_features.shape"
   ]
  },
  {
   "cell_type": "code",
   "execution_count": 29,
   "id": "5a26596a",
   "metadata": {},
   "outputs": [
    {
     "data": {
      "text/html": [
       "<div>\n",
       "<style scoped>\n",
       "    .dataframe tbody tr th:only-of-type {\n",
       "        vertical-align: middle;\n",
       "    }\n",
       "\n",
       "    .dataframe tbody tr th {\n",
       "        vertical-align: top;\n",
       "    }\n",
       "\n",
       "    .dataframe thead th {\n",
       "        text-align: right;\n",
       "    }\n",
       "</style>\n",
       "<table border=\"1\" class=\"dataframe\">\n",
       "  <thead>\n",
       "    <tr style=\"text-align: right;\">\n",
       "      <th></th>\n",
       "      <th>cookieid</th>\n",
       "      <th>firsthitpagename</th>\n",
       "      <th>mean(visitpagenum)</th>\n",
       "    </tr>\n",
       "  </thead>\n",
       "  <tbody>\n",
       "    <tr>\n",
       "      <th>0</th>\n",
       "      <td>52882151623272742032948034078925051832</td>\n",
       "      <td>my account</td>\n",
       "      <td>27.0</td>\n",
       "    </tr>\n",
       "    <tr>\n",
       "      <th>1</th>\n",
       "      <td>79755164678756084974501978337153484560</td>\n",
       "      <td>index</td>\n",
       "      <td>125.0</td>\n",
       "    </tr>\n",
       "    <tr>\n",
       "      <th>2</th>\n",
       "      <td>5443955122341888424003495602170301473</td>\n",
       "      <td>index</td>\n",
       "      <td>88.5</td>\n",
       "    </tr>\n",
       "    <tr>\n",
       "      <th>3</th>\n",
       "      <td>15567279697543469666445773480724187157</td>\n",
       "      <td>my account</td>\n",
       "      <td>291.0</td>\n",
       "    </tr>\n",
       "    <tr>\n",
       "      <th>4</th>\n",
       "      <td>71667249622638493801005527041676393041</td>\n",
       "      <td>my account</td>\n",
       "      <td>31.0</td>\n",
       "    </tr>\n",
       "    <tr>\n",
       "      <th>5</th>\n",
       "      <td>61042077885887970553598772945168024836</td>\n",
       "      <td>index</td>\n",
       "      <td>62.0</td>\n",
       "    </tr>\n",
       "    <tr>\n",
       "      <th>6</th>\n",
       "      <td>50173036520586681086289374017581049714</td>\n",
       "      <td>index</td>\n",
       "      <td>122.0</td>\n",
       "    </tr>\n",
       "    <tr>\n",
       "      <th>7</th>\n",
       "      <td>75806096112973408034688549910937655265</td>\n",
       "      <td>index</td>\n",
       "      <td>42.0</td>\n",
       "    </tr>\n",
       "    <tr>\n",
       "      <th>8</th>\n",
       "      <td>69355983623503946334291902547906312305</td>\n",
       "      <td>pdp</td>\n",
       "      <td>62.5</td>\n",
       "    </tr>\n",
       "    <tr>\n",
       "      <th>9</th>\n",
       "      <td>32066281582833015954444801797185030134</td>\n",
       "      <td>my account</td>\n",
       "      <td>143.0</td>\n",
       "    </tr>\n",
       "    <tr>\n",
       "      <th>10</th>\n",
       "      <td>25217916054321342973973317115761612202</td>\n",
       "      <td>my account</td>\n",
       "      <td>74.0</td>\n",
       "    </tr>\n",
       "    <tr>\n",
       "      <th>11</th>\n",
       "      <td>45596620587639566882631533971145949758</td>\n",
       "      <td>index</td>\n",
       "      <td>35.0</td>\n",
       "    </tr>\n",
       "    <tr>\n",
       "      <th>12</th>\n",
       "      <td>75385020267243337231386660034021102166</td>\n",
       "      <td>my account</td>\n",
       "      <td>134.0</td>\n",
       "    </tr>\n",
       "    <tr>\n",
       "      <th>13</th>\n",
       "      <td>1457160148364069954262209451162340944</td>\n",
       "      <td>None</td>\n",
       "      <td>200.0</td>\n",
       "    </tr>\n",
       "    <tr>\n",
       "      <th>14</th>\n",
       "      <td>72629135136599322776269431678438489563</td>\n",
       "      <td>index</td>\n",
       "      <td>52.0</td>\n",
       "    </tr>\n",
       "  </tbody>\n",
       "</table>\n",
       "</div>"
      ],
      "text/plain": [
       "                                  cookieid firsthitpagename  \\\n",
       "0   52882151623272742032948034078925051832       my account   \n",
       "1   79755164678756084974501978337153484560            index   \n",
       "2    5443955122341888424003495602170301473            index   \n",
       "3   15567279697543469666445773480724187157       my account   \n",
       "4   71667249622638493801005527041676393041       my account   \n",
       "5   61042077885887970553598772945168024836            index   \n",
       "6   50173036520586681086289374017581049714            index   \n",
       "7   75806096112973408034688549910937655265            index   \n",
       "8   69355983623503946334291902547906312305              pdp   \n",
       "9   32066281582833015954444801797185030134       my account   \n",
       "10  25217916054321342973973317115761612202       my account   \n",
       "11  45596620587639566882631533971145949758            index   \n",
       "12  75385020267243337231386660034021102166       my account   \n",
       "13   1457160148364069954262209451162340944             None   \n",
       "14  72629135136599322776269431678438489563            index   \n",
       "\n",
       "    mean(visitpagenum)  \n",
       "0                 27.0  \n",
       "1                125.0  \n",
       "2                 88.5  \n",
       "3                291.0  \n",
       "4                 31.0  \n",
       "5                 62.0  \n",
       "6                122.0  \n",
       "7                 42.0  \n",
       "8                 62.5  \n",
       "9                143.0  \n",
       "10                74.0  \n",
       "11                35.0  \n",
       "12               134.0  \n",
       "13               200.0  \n",
       "14                52.0  "
      ]
     },
     "execution_count": 29,
     "metadata": {},
     "output_type": "execute_result"
    }
   ],
   "source": [
    "df_features.head(15)"
   ]
  },
  {
   "cell_type": "code",
   "execution_count": 30,
   "id": "a5dfb8b3",
   "metadata": {},
   "outputs": [],
   "source": [
    "#df_features.to_csv('Marieth_features_all.csv')"
   ]
  },
  {
   "cell_type": "code",
   "execution_count": null,
   "id": "15cb313a",
   "metadata": {},
   "outputs": [],
   "source": []
  }
 ],
 "metadata": {
  "kernelspec": {
   "display_name": "Python 3 (ipykernel)",
   "language": "python",
   "name": "python3"
  },
  "language_info": {
   "codemirror_mode": {
    "name": "ipython",
    "version": 3
   },
   "file_extension": ".py",
   "mimetype": "text/x-python",
   "name": "python",
   "nbconvert_exporter": "python",
   "pygments_lexer": "ipython3",
   "version": "3.9.13"
  }
 },
 "nbformat": 4,
 "nbformat_minor": 5
}
