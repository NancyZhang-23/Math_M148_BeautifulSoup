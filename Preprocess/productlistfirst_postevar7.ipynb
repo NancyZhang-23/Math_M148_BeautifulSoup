{
 "cells": [
  {
   "cell_type": "code",
   "execution_count": 1,
   "id": "0b8d812a",
   "metadata": {},
   "outputs": [],
   "source": [
    "import tarfile\n",
    "\n",
    "import tarfile\n",
    "import pandas as pd\n",
    "import pyarrow.parquet as pq\n",
    "import numpy as np\n",
    "pd.set_option('display.max_columns', None)\n",
    "\n",
    "import plotly.graph_objects as go\n",
    "from sklearn.decomposition import NMF\n",
    "\n",
    "import re\n",
    "\n",
    "from sklearn.decomposition import NMF"
   ]
  },
  {
   "cell_type": "markdown",
   "id": "537a46c9",
   "metadata": {},
   "source": [
    "## Load all the data "
   ]
  },
  {
   "cell_type": "code",
   "execution_count": 2,
   "id": "b019af40",
   "metadata": {},
   "outputs": [],
   "source": [
    "dataset_all = pq.ParquetDataset(\"bigd/M148/hitdata7days\")"
   ]
  },
  {
   "cell_type": "code",
   "execution_count": 3,
   "id": "f386caa1",
   "metadata": {},
   "outputs": [],
   "source": [
    "columns = [\"cookieid\",\"productlist\",\"ordernumber\",\"post_evar7\"]\n",
    "#df = pd.read_parquet(tn.name,columns=columns)\n",
    "data_all = dataset_all.read(columns=columns).combine_chunks()"
   ]
  },
  {
   "cell_type": "code",
   "execution_count": 4,
   "id": "9ee30dd7",
   "metadata": {},
   "outputs": [],
   "source": [
    "data_all_pd = data_all.to_pandas()"
   ]
  },
  {
   "cell_type": "code",
   "execution_count": 5,
   "id": "760a8446",
   "metadata": {},
   "outputs": [
    {
     "data": {
      "text/html": [
       "<div>\n",
       "<style scoped>\n",
       "    .dataframe tbody tr th:only-of-type {\n",
       "        vertical-align: middle;\n",
       "    }\n",
       "\n",
       "    .dataframe tbody tr th {\n",
       "        vertical-align: top;\n",
       "    }\n",
       "\n",
       "    .dataframe thead th {\n",
       "        text-align: right;\n",
       "    }\n",
       "</style>\n",
       "<table border=\"1\" class=\"dataframe\">\n",
       "  <thead>\n",
       "    <tr style=\"text-align: right;\">\n",
       "      <th></th>\n",
       "      <th>cookieid</th>\n",
       "      <th>productlist</th>\n",
       "      <th>ordernumber</th>\n",
       "      <th>post_evar7</th>\n",
       "      <th>visitday</th>\n",
       "    </tr>\n",
       "  </thead>\n",
       "  <tbody>\n",
       "    <tr>\n",
       "      <th>42730139</th>\n",
       "      <td>66766296197672086254571863561089794102</td>\n",
       "      <td>None</td>\n",
       "      <td>None</td>\n",
       "      <td>Search</td>\n",
       "      <td>16</td>\n",
       "    </tr>\n",
       "    <tr>\n",
       "      <th>42730140</th>\n",
       "      <td>42336954984504414921774913107250050258</td>\n",
       "      <td>None</td>\n",
       "      <td>None</td>\n",
       "      <td>None</td>\n",
       "      <td>16</td>\n",
       "    </tr>\n",
       "    <tr>\n",
       "      <th>42730141</th>\n",
       "      <td>17693983337648543312395385556212515037</td>\n",
       "      <td>None</td>\n",
       "      <td>None</td>\n",
       "      <td>wid</td>\n",
       "      <td>16</td>\n",
       "    </tr>\n",
       "    <tr>\n",
       "      <th>42730142</th>\n",
       "      <td>85153173066658247329001202340424923203</td>\n",
       "      <td>None</td>\n",
       "      <td>None</td>\n",
       "      <td>wid</td>\n",
       "      <td>16</td>\n",
       "    </tr>\n",
       "    <tr>\n",
       "      <th>42730143</th>\n",
       "      <td>81128382723058624884928245544453957460</td>\n",
       "      <td>None</td>\n",
       "      <td>None</td>\n",
       "      <td>wid</td>\n",
       "      <td>16</td>\n",
       "    </tr>\n",
       "    <tr>\n",
       "      <th>42730144</th>\n",
       "      <td>83103452230070488727514707142695403239</td>\n",
       "      <td>;NK0G7;;;;</td>\n",
       "      <td>None</td>\n",
       "      <td>wid</td>\n",
       "      <td>16</td>\n",
       "    </tr>\n",
       "    <tr>\n",
       "      <th>42730145</th>\n",
       "      <td>78978313603212467237685845152760013485</td>\n",
       "      <td>None</td>\n",
       "      <td>None</td>\n",
       "      <td>None</td>\n",
       "      <td>16</td>\n",
       "    </tr>\n",
       "    <tr>\n",
       "      <th>42730146</th>\n",
       "      <td>38462509364520503943541087382094206104</td>\n",
       "      <td>None</td>\n",
       "      <td>None</td>\n",
       "      <td>wid</td>\n",
       "      <td>16</td>\n",
       "    </tr>\n",
       "    <tr>\n",
       "      <th>42730147</th>\n",
       "      <td>53686880511144008613364683438838426866</td>\n",
       "      <td>None</td>\n",
       "      <td>None</td>\n",
       "      <td>Browse</td>\n",
       "      <td>16</td>\n",
       "    </tr>\n",
       "    <tr>\n",
       "      <th>42730148</th>\n",
       "      <td>15214929409965487617343822276678408192</td>\n",
       "      <td>None</td>\n",
       "      <td>None</td>\n",
       "      <td>None</td>\n",
       "      <td>16</td>\n",
       "    </tr>\n",
       "  </tbody>\n",
       "</table>\n",
       "</div>"
      ],
      "text/plain": [
       "                                        cookieid productlist ordernumber  \\\n",
       "42730139  66766296197672086254571863561089794102        None        None   \n",
       "42730140  42336954984504414921774913107250050258        None        None   \n",
       "42730141  17693983337648543312395385556212515037        None        None   \n",
       "42730142  85153173066658247329001202340424923203        None        None   \n",
       "42730143  81128382723058624884928245544453957460        None        None   \n",
       "42730144  83103452230070488727514707142695403239  ;NK0G7;;;;        None   \n",
       "42730145  78978313603212467237685845152760013485        None        None   \n",
       "42730146  38462509364520503943541087382094206104        None        None   \n",
       "42730147  53686880511144008613364683438838426866        None        None   \n",
       "42730148  15214929409965487617343822276678408192        None        None   \n",
       "\n",
       "         post_evar7 visitday  \n",
       "42730139     Search       16  \n",
       "42730140       None       16  \n",
       "42730141        wid       16  \n",
       "42730142        wid       16  \n",
       "42730143        wid       16  \n",
       "42730144        wid       16  \n",
       "42730145       None       16  \n",
       "42730146        wid       16  \n",
       "42730147     Browse       16  \n",
       "42730148       None       16  "
      ]
     },
     "execution_count": 5,
     "metadata": {},
     "output_type": "execute_result"
    }
   ],
   "source": [
    "data_all_pd.tail(10)"
   ]
  },
  {
   "cell_type": "markdown",
   "id": "dc939eb1",
   "metadata": {},
   "source": [
    "## Subset stuff "
   ]
  },
  {
   "cell_type": "code",
   "execution_count": 6,
   "id": "75aa9773",
   "metadata": {},
   "outputs": [],
   "source": [
    "df_orders = data_all_pd[data_all_pd.ordernumber.notnull()]\n",
    "df_orders_cookies = df_orders[\"cookieid\"].unique()"
   ]
  },
  {
   "cell_type": "code",
   "execution_count": 7,
   "id": "dff5f837",
   "metadata": {},
   "outputs": [],
   "source": [
    "df_cookies = df_orders[df_orders[\"cookieid\"].isin(df_orders_cookies)]"
   ]
  },
  {
   "cell_type": "code",
   "execution_count": 8,
   "id": "d90fd83d",
   "metadata": {},
   "outputs": [
    {
     "data": {
      "text/plain": [
       "(103138, 5)"
      ]
     },
     "execution_count": 8,
     "metadata": {},
     "output_type": "execute_result"
    }
   ],
   "source": [
    "df_cookies = df_cookies.drop_duplicates(subset='cookieid', keep=\"first\")\n",
    "df_cookies.shape"
   ]
  },
  {
   "cell_type": "markdown",
   "id": "a7f11e1c",
   "metadata": {},
   "source": [
    "## Create DataFrame"
   ]
  },
  {
   "cell_type": "code",
   "execution_count": 52,
   "id": "bf85cd73",
   "metadata": {
    "scrolled": true
   },
   "outputs": [],
   "source": [
    "df_features = pd.DataFrame(0, index = range(0,len(df_orders_cookies)), columns=[\"cookieid\", \"productlist_first\", \"post_evar7\"])"
   ]
  },
  {
   "cell_type": "code",
   "execution_count": 53,
   "id": "f9ed43b2",
   "metadata": {},
   "outputs": [
    {
     "data": {
      "text/html": [
       "<div>\n",
       "<style scoped>\n",
       "    .dataframe tbody tr th:only-of-type {\n",
       "        vertical-align: middle;\n",
       "    }\n",
       "\n",
       "    .dataframe tbody tr th {\n",
       "        vertical-align: top;\n",
       "    }\n",
       "\n",
       "    .dataframe thead th {\n",
       "        text-align: right;\n",
       "    }\n",
       "</style>\n",
       "<table border=\"1\" class=\"dataframe\">\n",
       "  <thead>\n",
       "    <tr style=\"text-align: right;\">\n",
       "      <th></th>\n",
       "      <th>cookieid</th>\n",
       "      <th>productlist_first</th>\n",
       "      <th>post_evar7</th>\n",
       "    </tr>\n",
       "  </thead>\n",
       "  <tbody>\n",
       "    <tr>\n",
       "      <th>0</th>\n",
       "      <td>0</td>\n",
       "      <td>0</td>\n",
       "      <td>0</td>\n",
       "    </tr>\n",
       "    <tr>\n",
       "      <th>1</th>\n",
       "      <td>0</td>\n",
       "      <td>0</td>\n",
       "      <td>0</td>\n",
       "    </tr>\n",
       "    <tr>\n",
       "      <th>2</th>\n",
       "      <td>0</td>\n",
       "      <td>0</td>\n",
       "      <td>0</td>\n",
       "    </tr>\n",
       "    <tr>\n",
       "      <th>3</th>\n",
       "      <td>0</td>\n",
       "      <td>0</td>\n",
       "      <td>0</td>\n",
       "    </tr>\n",
       "    <tr>\n",
       "      <th>4</th>\n",
       "      <td>0</td>\n",
       "      <td>0</td>\n",
       "      <td>0</td>\n",
       "    </tr>\n",
       "  </tbody>\n",
       "</table>\n",
       "</div>"
      ],
      "text/plain": [
       "   cookieid  productlist_first  post_evar7\n",
       "0         0                  0           0\n",
       "1         0                  0           0\n",
       "2         0                  0           0\n",
       "3         0                  0           0\n",
       "4         0                  0           0"
      ]
     },
     "execution_count": 53,
     "metadata": {},
     "output_type": "execute_result"
    }
   ],
   "source": [
    "df_features.head(5)"
   ]
  },
  {
   "cell_type": "code",
   "execution_count": 54,
   "id": "d6cf9de4",
   "metadata": {},
   "outputs": [],
   "source": [
    "df_orders = data_all_pd[data_all_pd.ordernumber.notnull()]\n",
    "df_orders_cookies = df_orders[\"cookieid\"].unique()\n",
    "df_cookies = df_orders[df_orders[\"cookieid\"].isin(df_orders_cookies)]\n"
   ]
  },
  {
   "cell_type": "code",
   "execution_count": 55,
   "id": "4521fe91",
   "metadata": {},
   "outputs": [],
   "source": [
    "df_cookies = df_cookies.drop_duplicates(subset='cookieid', keep=\"first\")"
   ]
  },
  {
   "cell_type": "code",
   "execution_count": 56,
   "id": "52ddce85",
   "metadata": {},
   "outputs": [
    {
     "data": {
      "text/plain": [
       "(103138, 5)"
      ]
     },
     "execution_count": 56,
     "metadata": {},
     "output_type": "execute_result"
    }
   ],
   "source": [
    "df_cookies.shape"
   ]
  },
  {
   "cell_type": "code",
   "execution_count": 57,
   "id": "bcf5f397",
   "metadata": {},
   "outputs": [],
   "source": [
    "for i in range(0,len(df_orders_cookies)):\n",
    "    df_features.loc[i,\"cookieid\"] = df_orders_cookies[i]\n",
    "    cookie_ind = df_cookies[df_cookies[\"cookieid\"] == df_orders_cookies[i]]\n",
    "    \n",
    "    post_evar7 = cookie_ind.head(1).post_evar7.item()\n",
    "\n",
    "    if(post_evar7 is None):\n",
    "        df_features.loc[i,\"post_evar7\"] = None   \n",
    "    else: \n",
    "        df_features.loc[i,\"post_evar7\"] = post_evar7\n",
    "    \n",
    "    if cookie_ind[cookie_ind[\"productlist\"].str.len()>10].productlist.head(1).empty == True:\n",
    "        df_features.loc[i,\"productlist_first\"] = None\n",
    "    else:\n",
    "        first_product_ugly = str(cookie_ind[cookie_ind[\"productlist\"].str.len() > 10].productlist.head(1).item())\n",
    "        # Try\n",
    "        #first_product_ugly = str(first_product_ugly)\n",
    "    \n",
    "        if(first_product_ugly[0:2] == \";N\"):\n",
    "        \n",
    "            first_product_pre = re.search(\"=([A-Z])\\w*\", first_product_ugly)\n",
    "            if first_product_pre is None:\n",
    "                df_features.loc[i,\"productlist_first\"] = None \n",
    "            else: \n",
    "                first_product = re.findall(\"=([A-Za-z]+)\", first_product_pre[0])[0]\n",
    "                df_features.loc[i,\"productlist_first\"] = first_product\n",
    "        else: \n",
    "            first_product = re.search(\"([\\w &]*)\", first_product_ugly)[0]\n",
    "            df_features.loc[i,\"productlist_first\"] = first_product\n"
   ]
  },
  {
   "cell_type": "code",
   "execution_count": 58,
   "id": "58d3a729",
   "metadata": {},
   "outputs": [
    {
     "data": {
      "text/html": [
       "<div>\n",
       "<style scoped>\n",
       "    .dataframe tbody tr th:only-of-type {\n",
       "        vertical-align: middle;\n",
       "    }\n",
       "\n",
       "    .dataframe tbody tr th {\n",
       "        vertical-align: top;\n",
       "    }\n",
       "\n",
       "    .dataframe thead th {\n",
       "        text-align: right;\n",
       "    }\n",
       "</style>\n",
       "<table border=\"1\" class=\"dataframe\">\n",
       "  <thead>\n",
       "    <tr style=\"text-align: right;\">\n",
       "      <th></th>\n",
       "      <th>cookieid</th>\n",
       "      <th>productlist_first</th>\n",
       "      <th>post_evar7</th>\n",
       "    </tr>\n",
       "  </thead>\n",
       "  <tbody>\n",
       "    <tr>\n",
       "      <th>0</th>\n",
       "      <td>52882151623272742032948034078925051832</td>\n",
       "      <td>Video Games</td>\n",
       "      <td>NaN</td>\n",
       "    </tr>\n",
       "    <tr>\n",
       "      <th>1</th>\n",
       "      <td>79755164678756084974501978337153484560</td>\n",
       "      <td>Toys</td>\n",
       "      <td>Browse</td>\n",
       "    </tr>\n",
       "    <tr>\n",
       "      <th>2</th>\n",
       "      <td>5443955122341888424003495602170301473</td>\n",
       "      <td>Bed &amp; Bath</td>\n",
       "      <td>Browse</td>\n",
       "    </tr>\n",
       "    <tr>\n",
       "      <th>3</th>\n",
       "      <td>15567279697543469666445773480724187157</td>\n",
       "      <td>Personal Care</td>\n",
       "      <td>Search</td>\n",
       "    </tr>\n",
       "    <tr>\n",
       "      <th>4</th>\n",
       "      <td>71667249622638493801005527041676393041</td>\n",
       "      <td>Shoes</td>\n",
       "      <td>Search</td>\n",
       "    </tr>\n",
       "    <tr>\n",
       "      <th>5</th>\n",
       "      <td>61042077885887970553598772945168024836</td>\n",
       "      <td>Toys</td>\n",
       "      <td>Search</td>\n",
       "    </tr>\n",
       "    <tr>\n",
       "      <th>6</th>\n",
       "      <td>50173036520586681086289374017581049714</td>\n",
       "      <td>Kitchen</td>\n",
       "      <td>Browse</td>\n",
       "    </tr>\n",
       "    <tr>\n",
       "      <th>7</th>\n",
       "      <td>75806096112973408034688549910937655265</td>\n",
       "      <td>Toys</td>\n",
       "      <td>Search</td>\n",
       "    </tr>\n",
       "    <tr>\n",
       "      <th>8</th>\n",
       "      <td>69355983623503946334291902547906312305</td>\n",
       "      <td>Home</td>\n",
       "      <td>None</td>\n",
       "    </tr>\n",
       "    <tr>\n",
       "      <th>9</th>\n",
       "      <td>32066281582833015954444801797185030134</td>\n",
       "      <td>Bed &amp; Bath</td>\n",
       "      <td>Browse</td>\n",
       "    </tr>\n",
       "  </tbody>\n",
       "</table>\n",
       "</div>"
      ],
      "text/plain": [
       "                                 cookieid productlist_first post_evar7\n",
       "0  52882151623272742032948034078925051832       Video Games        NaN\n",
       "1  79755164678756084974501978337153484560              Toys     Browse\n",
       "2   5443955122341888424003495602170301473        Bed & Bath     Browse\n",
       "3  15567279697543469666445773480724187157     Personal Care     Search\n",
       "4  71667249622638493801005527041676393041             Shoes     Search\n",
       "5  61042077885887970553598772945168024836              Toys     Search\n",
       "6  50173036520586681086289374017581049714           Kitchen     Browse\n",
       "7  75806096112973408034688549910937655265              Toys     Search\n",
       "8  69355983623503946334291902547906312305              Home       None\n",
       "9  32066281582833015954444801797185030134        Bed & Bath     Browse"
      ]
     },
     "execution_count": 58,
     "metadata": {},
     "output_type": "execute_result"
    }
   ],
   "source": [
    "df_features.head(10)"
   ]
  },
  {
   "cell_type": "code",
   "execution_count": 59,
   "id": "a31d446f",
   "metadata": {},
   "outputs": [],
   "source": [
    "#df_features.to_csv('productlist_new.csv')"
   ]
  },
  {
   "cell_type": "code",
   "execution_count": null,
   "id": "169d401a",
   "metadata": {},
   "outputs": [],
   "source": []
  }
 ],
 "metadata": {
  "kernelspec": {
   "display_name": "Python 3 (ipykernel)",
   "language": "python",
   "name": "python3"
  },
  "language_info": {
   "codemirror_mode": {
    "name": "ipython",
    "version": 3
   },
   "file_extension": ".py",
   "mimetype": "text/x-python",
   "name": "python",
   "nbconvert_exporter": "python",
   "pygments_lexer": "ipython3",
   "version": "3.9.13"
  }
 },
 "nbformat": 4,
 "nbformat_minor": 5
}
