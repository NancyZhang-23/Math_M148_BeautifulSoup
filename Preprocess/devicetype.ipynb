{
 "cells": [
  {
   "cell_type": "markdown",
   "id": "d734251b",
   "metadata": {},
   "source": [
    "# Manual Feature Selection for Prediction"
   ]
  },
  {
   "cell_type": "code",
   "execution_count": 1,
   "id": "7cd73749",
   "metadata": {},
   "outputs": [],
   "source": [
    "#imports\n",
    "\n",
    "import tarfile\n",
    "import pandas as pd\n",
    "import pyarrow.parquet as pq\n",
    "import numpy as np"
   ]
  },
  {
   "cell_type": "markdown",
   "id": "b7dbf441",
   "metadata": {},
   "source": [
    "## All days "
   ]
  },
  {
   "cell_type": "code",
   "execution_count": 2,
   "id": "0bdf3020",
   "metadata": {},
   "outputs": [],
   "source": [
    "dataset_all = pq.ParquetDataset(\"bigd/M148/hitdata7days\")"
   ]
  },
  {
   "cell_type": "code",
   "execution_count": 3,
   "id": "0d9012d9",
   "metadata": {},
   "outputs": [],
   "source": [
    "columns = ['cookieid','ordernumber','devicetype']\n",
    "data_all = dataset_all.read(columns=columns).combine_chunks()"
   ]
  },
  {
   "cell_type": "code",
   "execution_count": 4,
   "id": "9d504777",
   "metadata": {},
   "outputs": [],
   "source": [
    "data_all_pd = data_all.to_pandas()"
   ]
  },
  {
   "cell_type": "code",
   "execution_count": 5,
   "id": "4fcfe5d8",
   "metadata": {},
   "outputs": [
    {
     "data": {
      "text/html": [
       "<div>\n",
       "<style scoped>\n",
       "    .dataframe tbody tr th:only-of-type {\n",
       "        vertical-align: middle;\n",
       "    }\n",
       "\n",
       "    .dataframe tbody tr th {\n",
       "        vertical-align: top;\n",
       "    }\n",
       "\n",
       "    .dataframe thead th {\n",
       "        text-align: right;\n",
       "    }\n",
       "</style>\n",
       "<table border=\"1\" class=\"dataframe\">\n",
       "  <thead>\n",
       "    <tr style=\"text-align: right;\">\n",
       "      <th></th>\n",
       "      <th>cookieid</th>\n",
       "      <th>ordernumber</th>\n",
       "      <th>devicetype</th>\n",
       "      <th>visitday</th>\n",
       "    </tr>\n",
       "  </thead>\n",
       "  <tbody>\n",
       "    <tr>\n",
       "      <th>42730139</th>\n",
       "      <td>66766296197672086254571863561089794102</td>\n",
       "      <td>None</td>\n",
       "      <td>Tablet</td>\n",
       "      <td>16</td>\n",
       "    </tr>\n",
       "    <tr>\n",
       "      <th>42730140</th>\n",
       "      <td>42336954984504414921774913107250050258</td>\n",
       "      <td>None</td>\n",
       "      <td>Mobile</td>\n",
       "      <td>16</td>\n",
       "    </tr>\n",
       "    <tr>\n",
       "      <th>42730141</th>\n",
       "      <td>17693983337648543312395385556212515037</td>\n",
       "      <td>None</td>\n",
       "      <td>Desktop</td>\n",
       "      <td>16</td>\n",
       "    </tr>\n",
       "    <tr>\n",
       "      <th>42730142</th>\n",
       "      <td>85153173066658247329001202340424923203</td>\n",
       "      <td>None</td>\n",
       "      <td>Mobile</td>\n",
       "      <td>16</td>\n",
       "    </tr>\n",
       "    <tr>\n",
       "      <th>42730143</th>\n",
       "      <td>81128382723058624884928245544453957460</td>\n",
       "      <td>None</td>\n",
       "      <td>Desktop</td>\n",
       "      <td>16</td>\n",
       "    </tr>\n",
       "    <tr>\n",
       "      <th>42730144</th>\n",
       "      <td>83103452230070488727514707142695403239</td>\n",
       "      <td>None</td>\n",
       "      <td>Mobile</td>\n",
       "      <td>16</td>\n",
       "    </tr>\n",
       "    <tr>\n",
       "      <th>42730145</th>\n",
       "      <td>78978313603212467237685845152760013485</td>\n",
       "      <td>None</td>\n",
       "      <td>Tablet</td>\n",
       "      <td>16</td>\n",
       "    </tr>\n",
       "    <tr>\n",
       "      <th>42730146</th>\n",
       "      <td>38462509364520503943541087382094206104</td>\n",
       "      <td>None</td>\n",
       "      <td>Mobile</td>\n",
       "      <td>16</td>\n",
       "    </tr>\n",
       "    <tr>\n",
       "      <th>42730147</th>\n",
       "      <td>53686880511144008613364683438838426866</td>\n",
       "      <td>None</td>\n",
       "      <td>Mobile</td>\n",
       "      <td>16</td>\n",
       "    </tr>\n",
       "    <tr>\n",
       "      <th>42730148</th>\n",
       "      <td>15214929409965487617343822276678408192</td>\n",
       "      <td>None</td>\n",
       "      <td>Tablet</td>\n",
       "      <td>16</td>\n",
       "    </tr>\n",
       "  </tbody>\n",
       "</table>\n",
       "</div>"
      ],
      "text/plain": [
       "                                        cookieid ordernumber devicetype  \\\n",
       "42730139  66766296197672086254571863561089794102        None     Tablet   \n",
       "42730140  42336954984504414921774913107250050258        None     Mobile   \n",
       "42730141  17693983337648543312395385556212515037        None    Desktop   \n",
       "42730142  85153173066658247329001202340424923203        None     Mobile   \n",
       "42730143  81128382723058624884928245544453957460        None    Desktop   \n",
       "42730144  83103452230070488727514707142695403239        None     Mobile   \n",
       "42730145  78978313603212467237685845152760013485        None     Tablet   \n",
       "42730146  38462509364520503943541087382094206104        None     Mobile   \n",
       "42730147  53686880511144008613364683438838426866        None     Mobile   \n",
       "42730148  15214929409965487617343822276678408192        None     Tablet   \n",
       "\n",
       "         visitday  \n",
       "42730139       16  \n",
       "42730140       16  \n",
       "42730141       16  \n",
       "42730142       16  \n",
       "42730143       16  \n",
       "42730144       16  \n",
       "42730145       16  \n",
       "42730146       16  \n",
       "42730147       16  \n",
       "42730148       16  "
      ]
     },
     "execution_count": 5,
     "metadata": {},
     "output_type": "execute_result"
    }
   ],
   "source": [
    "data_all_pd.tail(10)"
   ]
  },
  {
   "cell_type": "code",
   "execution_count": 6,
   "id": "77aa8f7f",
   "metadata": {},
   "outputs": [
    {
     "data": {
      "text/plain": [
       "(42730149, 4)"
      ]
     },
     "execution_count": 6,
     "metadata": {},
     "output_type": "execute_result"
    }
   ],
   "source": [
    "data_all_pd.shape"
   ]
  },
  {
   "cell_type": "code",
   "execution_count": 7,
   "id": "2e952e9b",
   "metadata": {},
   "outputs": [
    {
     "data": {
      "text/plain": [
       "4"
      ]
     },
     "execution_count": 7,
     "metadata": {},
     "output_type": "execute_result"
    }
   ],
   "source": [
    "len(data_all_pd[\"devicetype\"].unique())"
   ]
  },
  {
   "cell_type": "markdown",
   "id": "1d5c5195",
   "metadata": {},
   "source": [
    "### Subset by visitors who ordered something "
   ]
  },
  {
   "cell_type": "code",
   "execution_count": 8,
   "id": "cc7452e8",
   "metadata": {},
   "outputs": [
    {
     "data": {
      "text/plain": [
       "118049"
      ]
     },
     "execution_count": 8,
     "metadata": {},
     "output_type": "execute_result"
    }
   ],
   "source": [
    "data_orders = data_all_pd[data_all_pd.ordernumber.notnull()]\n",
    "len(data_orders)"
   ]
  },
  {
   "cell_type": "code",
   "execution_count": 9,
   "id": "8f2be2b4",
   "metadata": {},
   "outputs": [
    {
     "data": {
      "text/plain": [
       "103138"
      ]
     },
     "execution_count": 9,
     "metadata": {},
     "output_type": "execute_result"
    }
   ],
   "source": [
    "len(data_orders[\"cookieid\"].unique())"
   ]
  },
  {
   "cell_type": "code",
   "execution_count": 10,
   "id": "d5573a05",
   "metadata": {},
   "outputs": [
    {
     "data": {
      "text/plain": [
       "14911"
      ]
     },
     "execution_count": 10,
     "metadata": {},
     "output_type": "execute_result"
    }
   ],
   "source": [
    "# Number of users who placed more than one order\n",
    "118049 - 103138"
   ]
  },
  {
   "cell_type": "code",
   "execution_count": 11,
   "id": "5cee3e82",
   "metadata": {},
   "outputs": [
    {
     "data": {
      "text/plain": [
       "117886"
      ]
     },
     "execution_count": 11,
     "metadata": {},
     "output_type": "execute_result"
    }
   ],
   "source": [
    "len(data_orders[\"ordernumber\"].unique())"
   ]
  },
  {
   "cell_type": "code",
   "execution_count": 10,
   "id": "6787d6f7",
   "metadata": {},
   "outputs": [
    {
     "data": {
      "text/html": [
       "<div>\n",
       "<style scoped>\n",
       "    .dataframe tbody tr th:only-of-type {\n",
       "        vertical-align: middle;\n",
       "    }\n",
       "\n",
       "    .dataframe tbody tr th {\n",
       "        vertical-align: top;\n",
       "    }\n",
       "\n",
       "    .dataframe thead th {\n",
       "        text-align: right;\n",
       "    }\n",
       "</style>\n",
       "<table border=\"1\" class=\"dataframe\">\n",
       "  <thead>\n",
       "    <tr style=\"text-align: right;\">\n",
       "      <th></th>\n",
       "      <th>cookieid</th>\n",
       "      <th>ordernumber</th>\n",
       "      <th>devicetype</th>\n",
       "      <th>visitday</th>\n",
       "    </tr>\n",
       "  </thead>\n",
       "  <tbody>\n",
       "    <tr>\n",
       "      <th>321</th>\n",
       "      <td>52882151623272742032948034078925051832</td>\n",
       "      <td>ORD0116474530</td>\n",
       "      <td>Mobile</td>\n",
       "      <td>10</td>\n",
       "    </tr>\n",
       "    <tr>\n",
       "      <th>555</th>\n",
       "      <td>79755164678756084974501978337153484560</td>\n",
       "      <td>ORD0116455911</td>\n",
       "      <td>Desktop</td>\n",
       "      <td>10</td>\n",
       "    </tr>\n",
       "    <tr>\n",
       "      <th>721</th>\n",
       "      <td>5443955122341888424003495602170301473</td>\n",
       "      <td>ORD0116475324</td>\n",
       "      <td>Mobile</td>\n",
       "      <td>10</td>\n",
       "    </tr>\n",
       "    <tr>\n",
       "      <th>1034</th>\n",
       "      <td>15567279697543469666445773480724187157</td>\n",
       "      <td>ORD0116479100</td>\n",
       "      <td>Mobile</td>\n",
       "      <td>10</td>\n",
       "    </tr>\n",
       "    <tr>\n",
       "      <th>1196</th>\n",
       "      <td>71667249622638493801005527041676393041</td>\n",
       "      <td>ORD0116463219</td>\n",
       "      <td>Mobile</td>\n",
       "      <td>10</td>\n",
       "    </tr>\n",
       "    <tr>\n",
       "      <th>1412</th>\n",
       "      <td>61042077885887970553598772945168024836</td>\n",
       "      <td>ORD0116467305</td>\n",
       "      <td>Desktop</td>\n",
       "      <td>10</td>\n",
       "    </tr>\n",
       "    <tr>\n",
       "      <th>1690</th>\n",
       "      <td>50173036520586681086289374017581049714</td>\n",
       "      <td>ORD0116458048</td>\n",
       "      <td>Desktop</td>\n",
       "      <td>10</td>\n",
       "    </tr>\n",
       "    <tr>\n",
       "      <th>1740</th>\n",
       "      <td>75806096112973408034688549910937655265</td>\n",
       "      <td>ORD0116468364</td>\n",
       "      <td>Mobile</td>\n",
       "      <td>10</td>\n",
       "    </tr>\n",
       "    <tr>\n",
       "      <th>1773</th>\n",
       "      <td>69355983623503946334291902547906312305</td>\n",
       "      <td>ORD0116470167</td>\n",
       "      <td>Tablet</td>\n",
       "      <td>10</td>\n",
       "    </tr>\n",
       "    <tr>\n",
       "      <th>2300</th>\n",
       "      <td>32066281582833015954444801797185030134</td>\n",
       "      <td>ORD0116467351</td>\n",
       "      <td>Tablet</td>\n",
       "      <td>10</td>\n",
       "    </tr>\n",
       "  </tbody>\n",
       "</table>\n",
       "</div>"
      ],
      "text/plain": [
       "                                    cookieid    ordernumber devicetype  \\\n",
       "321   52882151623272742032948034078925051832  ORD0116474530     Mobile   \n",
       "555   79755164678756084974501978337153484560  ORD0116455911    Desktop   \n",
       "721    5443955122341888424003495602170301473  ORD0116475324     Mobile   \n",
       "1034  15567279697543469666445773480724187157  ORD0116479100     Mobile   \n",
       "1196  71667249622638493801005527041676393041  ORD0116463219     Mobile   \n",
       "1412  61042077885887970553598772945168024836  ORD0116467305    Desktop   \n",
       "1690  50173036520586681086289374017581049714  ORD0116458048    Desktop   \n",
       "1740  75806096112973408034688549910937655265  ORD0116468364     Mobile   \n",
       "1773  69355983623503946334291902547906312305  ORD0116470167     Tablet   \n",
       "2300  32066281582833015954444801797185030134  ORD0116467351     Tablet   \n",
       "\n",
       "     visitday  \n",
       "321        10  \n",
       "555        10  \n",
       "721        10  \n",
       "1034       10  \n",
       "1196       10  \n",
       "1412       10  \n",
       "1690       10  \n",
       "1740       10  \n",
       "1773       10  \n",
       "2300       10  "
      ]
     },
     "execution_count": 10,
     "metadata": {},
     "output_type": "execute_result"
    }
   ],
   "source": [
    "data_orders.head(10)"
   ]
  },
  {
   "cell_type": "code",
   "execution_count": 11,
   "id": "5e9f77b4",
   "metadata": {},
   "outputs": [
    {
     "data": {
      "text/plain": [
       "103138"
      ]
     },
     "execution_count": 11,
     "metadata": {},
     "output_type": "execute_result"
    }
   ],
   "source": [
    "# Number of unique cookie ids with an order number\n",
    "len(data_orders[\"cookieid\"].unique())"
   ]
  },
  {
   "cell_type": "markdown",
   "id": "3f2727a8",
   "metadata": {},
   "source": [
    "### Subset by unique cookie IDs (already have an order number) "
   ]
  },
  {
   "cell_type": "code",
   "execution_count": 16,
   "id": "bb776b6c",
   "metadata": {},
   "outputs": [],
   "source": [
    "cookies_unique = data_orders[\"cookieid\"].unique()"
   ]
  },
  {
   "cell_type": "code",
   "execution_count": 15,
   "id": "250cf949",
   "metadata": {},
   "outputs": [
    {
     "data": {
      "text/plain": [
       "array(['52882151623272742032948034078925051832',\n",
       "       '79755164678756084974501978337153484560',\n",
       "       '5443955122341888424003495602170301473', ...,\n",
       "       '27518133002633969172902995216203005732',\n",
       "       '8320986103372012575860537784589312884',\n",
       "       '15496251200612831365233286454677036970'], dtype=object)"
      ]
     },
     "execution_count": 15,
     "metadata": {},
     "output_type": "execute_result"
    }
   ],
   "source": [
    "cookies_unique"
   ]
  },
  {
   "cell_type": "code",
   "execution_count": 13,
   "id": "ce7531ef",
   "metadata": {},
   "outputs": [
    {
     "data": {
      "text/plain": [
       "103138"
      ]
     },
     "execution_count": 13,
     "metadata": {},
     "output_type": "execute_result"
    }
   ],
   "source": [
    "len(cookies_unique)"
   ]
  },
  {
   "cell_type": "code",
   "execution_count": 26,
   "id": "d8dcad23",
   "metadata": {},
   "outputs": [],
   "source": [
    "# Get corresponding device types for unique cookie IDs\n",
    "# Subset data_orders by unique cookies\n",
    "#data_cookie_unique = data_orders.iloc[data_orders['cookieid']==cookies_unique]\n",
    "data_cookie_unique = data_orders.loc[data_orders['cookieid'].isin(cookies_unique)] "
   ]
  },
  {
   "cell_type": "code",
   "execution_count": 27,
   "id": "97069028",
   "metadata": {},
   "outputs": [
    {
     "data": {
      "text/plain": [
       "118049"
      ]
     },
     "execution_count": 27,
     "metadata": {},
     "output_type": "execute_result"
    }
   ],
   "source": [
    "len(data_cookie_unique)"
   ]
  },
  {
   "cell_type": "code",
   "execution_count": 28,
   "id": "941e27c7",
   "metadata": {},
   "outputs": [
    {
     "data": {
      "text/html": [
       "<div>\n",
       "<style scoped>\n",
       "    .dataframe tbody tr th:only-of-type {\n",
       "        vertical-align: middle;\n",
       "    }\n",
       "\n",
       "    .dataframe tbody tr th {\n",
       "        vertical-align: top;\n",
       "    }\n",
       "\n",
       "    .dataframe thead th {\n",
       "        text-align: right;\n",
       "    }\n",
       "</style>\n",
       "<table border=\"1\" class=\"dataframe\">\n",
       "  <thead>\n",
       "    <tr style=\"text-align: right;\">\n",
       "      <th></th>\n",
       "      <th>cookieid</th>\n",
       "      <th>ordernumber</th>\n",
       "      <th>devicetype</th>\n",
       "      <th>visitday</th>\n",
       "    </tr>\n",
       "  </thead>\n",
       "  <tbody>\n",
       "    <tr>\n",
       "      <th>321</th>\n",
       "      <td>52882151623272742032948034078925051832</td>\n",
       "      <td>ORD0116474530</td>\n",
       "      <td>Mobile</td>\n",
       "      <td>10</td>\n",
       "    </tr>\n",
       "    <tr>\n",
       "      <th>555</th>\n",
       "      <td>79755164678756084974501978337153484560</td>\n",
       "      <td>ORD0116455911</td>\n",
       "      <td>Desktop</td>\n",
       "      <td>10</td>\n",
       "    </tr>\n",
       "    <tr>\n",
       "      <th>721</th>\n",
       "      <td>5443955122341888424003495602170301473</td>\n",
       "      <td>ORD0116475324</td>\n",
       "      <td>Mobile</td>\n",
       "      <td>10</td>\n",
       "    </tr>\n",
       "    <tr>\n",
       "      <th>1034</th>\n",
       "      <td>15567279697543469666445773480724187157</td>\n",
       "      <td>ORD0116479100</td>\n",
       "      <td>Mobile</td>\n",
       "      <td>10</td>\n",
       "    </tr>\n",
       "    <tr>\n",
       "      <th>1196</th>\n",
       "      <td>71667249622638493801005527041676393041</td>\n",
       "      <td>ORD0116463219</td>\n",
       "      <td>Mobile</td>\n",
       "      <td>10</td>\n",
       "    </tr>\n",
       "    <tr>\n",
       "      <th>1412</th>\n",
       "      <td>61042077885887970553598772945168024836</td>\n",
       "      <td>ORD0116467305</td>\n",
       "      <td>Desktop</td>\n",
       "      <td>10</td>\n",
       "    </tr>\n",
       "    <tr>\n",
       "      <th>1690</th>\n",
       "      <td>50173036520586681086289374017581049714</td>\n",
       "      <td>ORD0116458048</td>\n",
       "      <td>Desktop</td>\n",
       "      <td>10</td>\n",
       "    </tr>\n",
       "    <tr>\n",
       "      <th>1740</th>\n",
       "      <td>75806096112973408034688549910937655265</td>\n",
       "      <td>ORD0116468364</td>\n",
       "      <td>Mobile</td>\n",
       "      <td>10</td>\n",
       "    </tr>\n",
       "    <tr>\n",
       "      <th>1773</th>\n",
       "      <td>69355983623503946334291902547906312305</td>\n",
       "      <td>ORD0116470167</td>\n",
       "      <td>Tablet</td>\n",
       "      <td>10</td>\n",
       "    </tr>\n",
       "    <tr>\n",
       "      <th>2300</th>\n",
       "      <td>32066281582833015954444801797185030134</td>\n",
       "      <td>ORD0116467351</td>\n",
       "      <td>Tablet</td>\n",
       "      <td>10</td>\n",
       "    </tr>\n",
       "  </tbody>\n",
       "</table>\n",
       "</div>"
      ],
      "text/plain": [
       "                                    cookieid    ordernumber devicetype  \\\n",
       "321   52882151623272742032948034078925051832  ORD0116474530     Mobile   \n",
       "555   79755164678756084974501978337153484560  ORD0116455911    Desktop   \n",
       "721    5443955122341888424003495602170301473  ORD0116475324     Mobile   \n",
       "1034  15567279697543469666445773480724187157  ORD0116479100     Mobile   \n",
       "1196  71667249622638493801005527041676393041  ORD0116463219     Mobile   \n",
       "1412  61042077885887970553598772945168024836  ORD0116467305    Desktop   \n",
       "1690  50173036520586681086289374017581049714  ORD0116458048    Desktop   \n",
       "1740  75806096112973408034688549910937655265  ORD0116468364     Mobile   \n",
       "1773  69355983623503946334291902547906312305  ORD0116470167     Tablet   \n",
       "2300  32066281582833015954444801797185030134  ORD0116467351     Tablet   \n",
       "\n",
       "     visitday  \n",
       "321        10  \n",
       "555        10  \n",
       "721        10  \n",
       "1034       10  \n",
       "1196       10  \n",
       "1412       10  \n",
       "1690       10  \n",
       "1740       10  \n",
       "1773       10  \n",
       "2300       10  "
      ]
     },
     "execution_count": 28,
     "metadata": {},
     "output_type": "execute_result"
    }
   ],
   "source": [
    "data_cookie_unique.head(10)"
   ]
  },
  {
   "cell_type": "code",
   "execution_count": 29,
   "id": "b7569f9a",
   "metadata": {},
   "outputs": [
    {
     "data": {
      "text/plain": [
       "118049"
      ]
     },
     "execution_count": 29,
     "metadata": {},
     "output_type": "execute_result"
    }
   ],
   "source": [
    "len(data_orders)"
   ]
  },
  {
   "cell_type": "code",
   "execution_count": 30,
   "id": "ff615ce5",
   "metadata": {},
   "outputs": [],
   "source": [
    "cookie_device = data_orders[[\"cookieid\",\"devicetype\"]]"
   ]
  },
  {
   "cell_type": "code",
   "execution_count": 31,
   "id": "41fc730a",
   "metadata": {},
   "outputs": [
    {
     "data": {
      "text/plain": [
       "(118049, 2)"
      ]
     },
     "execution_count": 31,
     "metadata": {},
     "output_type": "execute_result"
    }
   ],
   "source": [
    "cookie_device.shape"
   ]
  },
  {
   "cell_type": "code",
   "execution_count": 32,
   "id": "01e89e36",
   "metadata": {},
   "outputs": [
    {
     "data": {
      "text/html": [
       "<div>\n",
       "<style scoped>\n",
       "    .dataframe tbody tr th:only-of-type {\n",
       "        vertical-align: middle;\n",
       "    }\n",
       "\n",
       "    .dataframe tbody tr th {\n",
       "        vertical-align: top;\n",
       "    }\n",
       "\n",
       "    .dataframe thead th {\n",
       "        text-align: right;\n",
       "    }\n",
       "</style>\n",
       "<table border=\"1\" class=\"dataframe\">\n",
       "  <thead>\n",
       "    <tr style=\"text-align: right;\">\n",
       "      <th></th>\n",
       "      <th>cookieid</th>\n",
       "      <th>devicetype</th>\n",
       "    </tr>\n",
       "  </thead>\n",
       "  <tbody>\n",
       "    <tr>\n",
       "      <th>321</th>\n",
       "      <td>52882151623272742032948034078925051832</td>\n",
       "      <td>Mobile</td>\n",
       "    </tr>\n",
       "    <tr>\n",
       "      <th>555</th>\n",
       "      <td>79755164678756084974501978337153484560</td>\n",
       "      <td>Desktop</td>\n",
       "    </tr>\n",
       "    <tr>\n",
       "      <th>721</th>\n",
       "      <td>5443955122341888424003495602170301473</td>\n",
       "      <td>Mobile</td>\n",
       "    </tr>\n",
       "    <tr>\n",
       "      <th>1034</th>\n",
       "      <td>15567279697543469666445773480724187157</td>\n",
       "      <td>Mobile</td>\n",
       "    </tr>\n",
       "    <tr>\n",
       "      <th>1196</th>\n",
       "      <td>71667249622638493801005527041676393041</td>\n",
       "      <td>Mobile</td>\n",
       "    </tr>\n",
       "    <tr>\n",
       "      <th>1412</th>\n",
       "      <td>61042077885887970553598772945168024836</td>\n",
       "      <td>Desktop</td>\n",
       "    </tr>\n",
       "    <tr>\n",
       "      <th>1690</th>\n",
       "      <td>50173036520586681086289374017581049714</td>\n",
       "      <td>Desktop</td>\n",
       "    </tr>\n",
       "    <tr>\n",
       "      <th>1740</th>\n",
       "      <td>75806096112973408034688549910937655265</td>\n",
       "      <td>Mobile</td>\n",
       "    </tr>\n",
       "    <tr>\n",
       "      <th>1773</th>\n",
       "      <td>69355983623503946334291902547906312305</td>\n",
       "      <td>Tablet</td>\n",
       "    </tr>\n",
       "    <tr>\n",
       "      <th>2300</th>\n",
       "      <td>32066281582833015954444801797185030134</td>\n",
       "      <td>Tablet</td>\n",
       "    </tr>\n",
       "  </tbody>\n",
       "</table>\n",
       "</div>"
      ],
      "text/plain": [
       "                                    cookieid devicetype\n",
       "321   52882151623272742032948034078925051832     Mobile\n",
       "555   79755164678756084974501978337153484560    Desktop\n",
       "721    5443955122341888424003495602170301473     Mobile\n",
       "1034  15567279697543469666445773480724187157     Mobile\n",
       "1196  71667249622638493801005527041676393041     Mobile\n",
       "1412  61042077885887970553598772945168024836    Desktop\n",
       "1690  50173036520586681086289374017581049714    Desktop\n",
       "1740  75806096112973408034688549910937655265     Mobile\n",
       "1773  69355983623503946334291902547906312305     Tablet\n",
       "2300  32066281582833015954444801797185030134     Tablet"
      ]
     },
     "execution_count": 32,
     "metadata": {},
     "output_type": "execute_result"
    }
   ],
   "source": [
    "cookie_device.head(10)"
   ]
  },
  {
   "cell_type": "code",
   "execution_count": 45,
   "id": "6f3c6a92",
   "metadata": {},
   "outputs": [
    {
     "data": {
      "text/html": [
       "<div>\n",
       "<style scoped>\n",
       "    .dataframe tbody tr th:only-of-type {\n",
       "        vertical-align: middle;\n",
       "    }\n",
       "\n",
       "    .dataframe tbody tr th {\n",
       "        vertical-align: top;\n",
       "    }\n",
       "\n",
       "    .dataframe thead th {\n",
       "        text-align: right;\n",
       "    }\n",
       "</style>\n",
       "<table border=\"1\" class=\"dataframe\">\n",
       "  <thead>\n",
       "    <tr style=\"text-align: right;\">\n",
       "      <th></th>\n",
       "      <th>cookieid</th>\n",
       "      <th>devicetype</th>\n",
       "    </tr>\n",
       "  </thead>\n",
       "  <tbody>\n",
       "    <tr>\n",
       "      <th>42727659</th>\n",
       "      <td>30885578089350772155912397845751825711</td>\n",
       "      <td>Mobile</td>\n",
       "    </tr>\n",
       "    <tr>\n",
       "      <th>42727875</th>\n",
       "      <td>29320100099378218248063544989477770254</td>\n",
       "      <td>Tablet</td>\n",
       "    </tr>\n",
       "    <tr>\n",
       "      <th>42728988</th>\n",
       "      <td>39289138522088170321707915526287389050</td>\n",
       "      <td>Mobile</td>\n",
       "    </tr>\n",
       "    <tr>\n",
       "      <th>42729043</th>\n",
       "      <td>21333409446351308826399880882943475377</td>\n",
       "      <td>Desktop</td>\n",
       "    </tr>\n",
       "    <tr>\n",
       "      <th>42729070</th>\n",
       "      <td>3842196529366479506449823684258936355</td>\n",
       "      <td>Mobile</td>\n",
       "    </tr>\n",
       "    <tr>\n",
       "      <th>42729225</th>\n",
       "      <td>59050303452684471876646873770423470660</td>\n",
       "      <td>Mobile</td>\n",
       "    </tr>\n",
       "    <tr>\n",
       "      <th>42729404</th>\n",
       "      <td>61208706497661156832678050724331608138</td>\n",
       "      <td>Mobile</td>\n",
       "    </tr>\n",
       "    <tr>\n",
       "      <th>42729476</th>\n",
       "      <td>27518133002633969172902995216203005732</td>\n",
       "      <td>Mobile</td>\n",
       "    </tr>\n",
       "    <tr>\n",
       "      <th>42729497</th>\n",
       "      <td>8320986103372012575860537784589312884</td>\n",
       "      <td>Mobile</td>\n",
       "    </tr>\n",
       "    <tr>\n",
       "      <th>42730027</th>\n",
       "      <td>15496251200612831365233286454677036970</td>\n",
       "      <td>Tablet</td>\n",
       "    </tr>\n",
       "  </tbody>\n",
       "</table>\n",
       "</div>"
      ],
      "text/plain": [
       "                                        cookieid devicetype\n",
       "42727659  30885578089350772155912397845751825711     Mobile\n",
       "42727875  29320100099378218248063544989477770254     Tablet\n",
       "42728988  39289138522088170321707915526287389050     Mobile\n",
       "42729043  21333409446351308826399880882943475377    Desktop\n",
       "42729070   3842196529366479506449823684258936355     Mobile\n",
       "42729225  59050303452684471876646873770423470660     Mobile\n",
       "42729404  61208706497661156832678050724331608138     Mobile\n",
       "42729476  27518133002633969172902995216203005732     Mobile\n",
       "42729497   8320986103372012575860537784589312884     Mobile\n",
       "42730027  15496251200612831365233286454677036970     Tablet"
      ]
     },
     "execution_count": 45,
     "metadata": {},
     "output_type": "execute_result"
    }
   ],
   "source": [
    "cookie_device.tail(10)"
   ]
  },
  {
   "cell_type": "markdown",
   "id": "79a488e8",
   "metadata": {},
   "source": [
    "## Drop duplicates of cookie ids and only keep the first one "
   ]
  },
  {
   "cell_type": "code",
   "execution_count": 34,
   "id": "922395e5",
   "metadata": {},
   "outputs": [
    {
     "data": {
      "text/plain": [
       "(103138, 2)"
      ]
     },
     "execution_count": 34,
     "metadata": {},
     "output_type": "execute_result"
    }
   ],
   "source": [
    "cookie_device2 = cookie_device.drop_duplicates(subset='cookieid', keep=\"first\")\n",
    "cookie_device2.shape"
   ]
  },
  {
   "cell_type": "markdown",
   "id": "82a33fd1",
   "metadata": {},
   "source": [
    "### Write the dataframe to a csv "
   ]
  },
  {
   "cell_type": "code",
   "execution_count": 35,
   "id": "2a6c8299",
   "metadata": {},
   "outputs": [],
   "source": [
    "#cookie_device2.to_csv('cookie_device.csv',float_format = 'Callable')"
   ]
  },
  {
   "cell_type": "code",
   "execution_count": null,
   "id": "0eb9dd31",
   "metadata": {},
   "outputs": [],
   "source": []
  }
 ],
 "metadata": {
  "kernelspec": {
   "display_name": "Python 3 (ipykernel)",
   "language": "python",
   "name": "python3"
  },
  "language_info": {
   "codemirror_mode": {
    "name": "ipython",
    "version": 3
   },
   "file_extension": ".py",
   "mimetype": "text/x-python",
   "name": "python",
   "nbconvert_exporter": "python",
   "pygments_lexer": "ipython3",
   "version": "3.9.13"
  }
 },
 "nbformat": 4,
 "nbformat_minor": 5
}
